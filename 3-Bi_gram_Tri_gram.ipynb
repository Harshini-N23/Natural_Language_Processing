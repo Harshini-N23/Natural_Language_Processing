{
  "cells": [
    {
      "cell_type": "markdown",
      "source": [
        "\n",
        "## Program to Implement N-grams\n",
        "\n",
        "## Aim: To predict the next word in the sentence, given the preceeding n words"
      ],
      "metadata": {
        "id": "UmrnGmCpE6UU"
      }
    },
    {
      "cell_type": "markdown",
      "metadata": {
        "id": "_whGRbIqYF4s"
      },
      "source": [
        "### Loading the libraries"
      ]
    },
    {
      "cell_type": "code",
      "execution_count": null,
      "metadata": {
        "colab": {
          "base_uri": "https://localhost:8080/"
        },
        "id": "mL-WVSwiJbuO",
        "outputId": "bd3f607c-8aa9-4f79-ff95-0551d0192eca"
      },
      "outputs": [
        {
          "output_type": "stream",
          "name": "stdout",
          "text": [
            "Looking in indexes: https://pypi.org/simple, https://us-python.pkg.dev/colab-wheels/public/simple/\n",
            "Collecting contractions\n",
            "  Downloading contractions-0.1.73-py2.py3-none-any.whl (8.7 kB)\n",
            "Collecting textsearch>=0.0.21\n",
            "  Downloading textsearch-0.0.24-py2.py3-none-any.whl (7.6 kB)\n",
            "Collecting anyascii\n",
            "  Downloading anyascii-0.3.1-py3-none-any.whl (287 kB)\n",
            "\u001b[2K     \u001b[90m━━━━━━━━━━━━━━━━━━━━━━━━━━━━━━━━━━━━━━━\u001b[0m \u001b[32m287.5/287.5 KB\u001b[0m \u001b[31m6.8 MB/s\u001b[0m eta \u001b[36m0:00:00\u001b[0m\n",
            "\u001b[?25hCollecting pyahocorasick\n",
            "  Downloading pyahocorasick-2.0.0-cp39-cp39-manylinux_2_5_x86_64.manylinux1_x86_64.whl (103 kB)\n",
            "\u001b[2K     \u001b[90m━━━━━━━━━━━━━━━━━━━━━━━━━━━━━━━━━━━━━━━\u001b[0m \u001b[32m103.2/103.2 KB\u001b[0m \u001b[31m6.5 MB/s\u001b[0m eta \u001b[36m0:00:00\u001b[0m\n",
            "\u001b[?25hInstalling collected packages: pyahocorasick, anyascii, textsearch, contractions\n",
            "Successfully installed anyascii-0.3.1 contractions-0.1.73 pyahocorasick-2.0.0 textsearch-0.0.24\n"
          ]
        }
      ],
      "source": [
        "pip install contractions"
      ]
    },
    {
      "cell_type": "code",
      "execution_count": null,
      "metadata": {
        "colab": {
          "base_uri": "https://localhost:8080/"
        },
        "id": "mRIQpzWXyk_o",
        "outputId": "9efc8d2a-0c1c-4bd1-8e30-65fe3fe2283c"
      },
      "outputs": [
        {
          "output_type": "stream",
          "name": "stderr",
          "text": [
            "[nltk_data] Downloading package punkt to /root/nltk_data...\n",
            "[nltk_data]   Unzipping tokenizers/punkt.zip.\n"
          ]
        }
      ],
      "source": [
        "import nltk\n",
        "from nltk.tokenize import word_tokenize\n",
        "import contractions\n",
        "nltk.download(\"punkt\")\n",
        "import string"
      ]
    },
    {
      "cell_type": "code",
      "execution_count": null,
      "metadata": {
        "id": "saQ751y0zBx_"
      },
      "outputs": [],
      "source": [
        "text = \"\"\" Hampi or Hampe, also referred to as the Group of Monuments at Hampi, is a UNESCO World Heritage Site located in Hampi town, Vijayanagara district, east-central Karnataka, India.[2]\n",
        "Hampi was the capital of the Vijayanagara Empire in the 14th century.[3] It was a fortified city. Chronicles left by Persian and European travellers, particularly the Portuguese, say that Hampi was a prosperous, wealthy and grand city near the Tungabhadra River, with numerous temples, farms and trading markets. By 1500 CE, Hampi-Vijayanagara was the world's second-largest medieval-era city after Beijing, and probably India's richest at that time, attracting traders from Persia and Portugal.[4][5] The Vijayanagara Empire was defeated by a coalition of Muslim sultanates; its capital was conquered, pillaged and destroyed by sultanate armies in 1565, after which Hampi remained in ruins.[3][6][7]\n",
        "Located in Karnataka near the modern-era city of Hosapete, Hampi's ruins are spread over 4,100 hectares (16 sq mi) and it has been described by UNESCO as an \"austere, grandiose site\" of more than 1,600 surviving remains of the last great Hindu kingdom in South India that includes \"forts, riverside features, royal and sacred complexes, temples, shrines, pillared halls, mandapas, memorial structures, water structures and others\".[8]\n",
        "Hampi predates the Vijayanagara Empire, it is mentioned in the Ramayana and the Puranas of Hinduism as Pampaa Devi Tirtha Kshetra.[3][9] Hampi continues to be an important religious centre, housing the Virupaksha Temple, an active Adi Shankara-linked monastery and various monuments belonging to the old city.[6][10].\n",
        "Hampi is situated on the banks of the Tungabhadra River in the eastern part of central Karnataka near the state border with Andhra Pradesh. It is 376 kilometres (234 mi) from Bengaluru, and 165 kilometres (103 mi) from Hubli. The closest railway station is in Hosapete (Hospet), 13 kilometres (8.1 mi) away and the closest airport is 32 kilometres (20 mi) Jindal Vijaynagar Airport in Toranagallu which has connectivity to Bengaluru. Overnight buses and trains also connect Hampi with Goa, and Bengaluru.[11] It is 140 kilometres (87 mi) southeast of the Badami and Aihole archaeological sites.[11][12]\n",
        "The synonym Hampi—traditionally known as Pampa-kshetra, Kishkindha-kshetra or Bhaskara-kshetra—is derived from Pampa, another name of the goddess Parvati in Hindu theology. According to mythology, the maiden Parvati (who is a reincarnation of Shiva's previous wife, Sati) resolves to marry the loner ascetic Shiva.[13][14] Her parents learn of her desire and discourage her, but she pursues her desire. Shiva is lost in yogic meditation, oblivious to the world; Parvati appeals to the gods for help to awaken him and gain his attention. Indra sends Kamadeva — the Hindu god of desire, erotic love, attraction, and affection—to awake Shiva from meditation. Kama reaches Shiva and shoots an arrow of desire.[13][14] Shiva opens his third eye in his forehead and burns Kama to ashes. Parvati does not lose her hope or her resolve to win over Shiva; she begins to live like him and engage in the same activities—asceticism, yogin and tapasya—awakening him and attracting his interest. Shiva meets Parvati in disguised form and tries to discourage her, telling her Shiva's weaknesses and personality problems.[13][14] Parvati refuses to listen and insists in her resolve. Shiva finally accepts her and they get married.[13][14] Kama was later brought back to life after the marriage of Shiva and Parvati According to Sthala Purana, Parvati (Pampa) pursued her ascetic, yogini lifestyle on Hemakuta Hill, now a part of Hampi, to win and bring ascetic Shiva back into householder life.[15] Shiva is also called Pampapati (meaning \"husband of Pampa\").[15] The river near the Hemakuta Hill came to be known as Pampa river.[16] The Sanskrit word Pampa morphed into the Kannada word Hampa and the place Parvati pursued Shiva came to be known as Hampe or Hampi.The site was an early medieval era pilgrimage place known as Pampakshetra. Its fame came from the Kishkindha chapters of the Hindu epic Ramayana, where Rama and Lakshmana meet Hanuman, Sugriva and the monkey army in their search for kidnapped Sita. The Hampi area has many close resemblances to the place described in the epic. The regional tradition believes that it is that place mentioned in the Ramayana, attracting pilgrims.[18] It was brought to light by an engineer named colonel Colin Mackenzie during the 1800s.\"\"\"\n",
        "\n",
        "text"
      ]
    },
    {
      "cell_type": "markdown",
      "metadata": {
        "id": "jI4oLGusYai6"
      },
      "source": [
        "### Expanding Contractions and converting the text to lower case"
      ]
    },
    {
      "cell_type": "code",
      "execution_count": null,
      "metadata": {
        "id": "jOQqW7SfTDnD"
      },
      "outputs": [],
      "source": [
        "text = contractions.fix(text)\n",
        "text = text.lower()"
      ]
    },
    {
      "cell_type": "markdown",
      "metadata": {
        "id": "jBRBvm9YYg67"
      },
      "source": [
        "### Tokenization"
      ]
    },
    {
      "cell_type": "code",
      "execution_count": null,
      "metadata": {
        "colab": {
          "base_uri": "https://localhost:8080/"
        },
        "id": "Sm9TCvErzV6Q",
        "outputId": "904ef7e1-1eaa-4794-cb8e-82ddd9336303"
      },
      "outputs": [
        {
          "output_type": "stream",
          "name": "stdout",
          "text": [
            "Tokens:  ['hampi', 'or', 'hampe', ',', 'also', 'referred', 'to', 'as', 'the', 'group', 'of', 'monuments', 'at', 'hampi', ',', 'is', 'a', 'unesco', 'world', 'heritage', 'site', 'located', 'in', 'hampi', 'town', ',', 'vijayanagara', 'district', ',', 'east-central', 'karnataka', ',', 'india', '.', '[', '2', ']', 'hampi', 'was', 'the', 'capital', 'of', 'the', 'vijayanagara', 'empire', 'in', 'the', '14th', 'century', '.', '[', '3', ']', 'it', 'was', 'a', 'fortified', 'city', '.', 'chronicles', 'left', 'by', 'persian', 'and', 'european', 'travellers', ',', 'particularly', 'the', 'portuguese', ',', 'say', 'that', 'hampi', 'was', 'a', 'prosperous', ',', 'wealthy', 'and', 'grand', 'city', 'near', 'the', 'tungabhadra', 'river', ',', 'with', 'numerous', 'temples', ',', 'farms', 'and', 'trading', 'markets', '.', 'by', '1500', 'ce', ',', 'hampi-vijayanagara', 'was', 'the', 'world', \"'s\", 'second-largest', 'medieval-era', 'city', 'after', 'beijing', ',', 'and', 'probably', 'india', \"'s\", 'richest', 'at', 'that', 'time', ',', 'attracting', 'traders', 'from', 'persia', 'and', 'portugal', '.', '[', '4', ']', '[', '5', ']', 'the', 'vijayanagara', 'empire', 'was', 'defeated', 'by', 'a', 'coalition', 'of', 'muslim', 'sultanates', ';', 'its', 'capital', 'was', 'conquered', ',', 'pillaged', 'and', 'destroyed', 'by', 'sultanate', 'armies', 'in', '1565', ',', 'after', 'which', 'hampi', 'remained', 'in', 'ruins', '.', '[', '3', ']', '[', '6', ']', '[', '7', ']', 'located', 'in', 'karnataka', 'near', 'the', 'modern-era', 'city', 'of', 'hosapete', ',', 'hampi', \"'s\", 'ruins', 'are', 'spread', 'over', '4,100', 'hectares', '(', '16', 'sq', 'mi', ')', 'and', 'it', 'has', 'been', 'described', 'by', 'unesco', 'as', 'an', '``', 'austere', ',', 'grandiose', 'site', \"''\", 'of', 'more', 'than', '1,600', 'surviving', 'remains', 'of', 'the', 'last', 'great', 'hindu', 'kingdom', 'in', 'south', 'india', 'that', 'includes', '``', 'forts', ',', 'riverside', 'features', ',', 'royal', 'and', 'sacred', 'complexes', ',', 'temples', ',', 'shrines', ',', 'pillared', 'halls', ',', 'mandapas', ',', 'memorial', 'structures', ',', 'water', 'structures', 'and', 'others', \"''\", '.', '[', '8', ']', 'hampi', 'predates', 'the', 'vijayanagara', 'empire', ',', 'it', 'is', 'mentioned', 'in', 'the', 'ramayana', 'and', 'the', 'puranas', 'of', 'hinduism', 'as', 'pampaa', 'devi', 'tirtha', 'kshetra', '.', '[', '3', ']', '[', '9', ']', 'hampi', 'continues', 'to', 'be', 'an', 'important', 'religious', 'centre', ',', 'housing', 'the', 'virupaksha', 'temple', ',', 'an', 'active', 'adi', 'shankara-linked', 'monastery', 'and', 'various', 'monuments', 'belonging', 'to', 'the', 'old', 'city.', '[', '6', ']', '[', '10', ']', '.', 'hampi', 'is', 'situated', 'on', 'the', 'banks', 'of', 'the', 'tungabhadra', 'river', 'in', 'the', 'eastern', 'part', 'of', 'central', 'karnataka', 'near', 'the', 'state', 'border', 'with', 'andhra', 'pradesh', '.', 'it', 'is', '376', 'kilometres', '(', '234', 'mi', ')', 'from', 'bengaluru', ',', 'and', '165', 'kilometres', '(', '103', 'mi', ')', 'from', 'hubli', '.', 'the', 'closest', 'railway', 'station', 'is', 'in', 'hosapete', '(', 'hospet', ')', ',', '13', 'kilometres', '(', '8.1', 'mi', ')', 'away', 'and', 'the', 'closest', 'airport', 'is', '32', 'kilometres', '(', '20', 'mi', ')', 'jindal', 'vijaynagar', 'airport', 'in', 'toranagallu', 'which', 'has', 'connectivity', 'to', 'bengaluru', '.', 'overnight', 'buses', 'and', 'trains', 'also', 'connect', 'hampi', 'with', 'goa', ',', 'and', 'bengaluru', '.', '[', '11', ']', 'it', 'is', '140', 'kilometres', '(', '87', 'mi', ')', 'southeast', 'of', 'the', 'badami', 'and', 'aihole', 'archaeological', 'sites', '.', '[', '11', ']', '[', '12', ']', 'the', 'synonym', 'hampi—traditionally', 'known', 'as', 'pampa-kshetra', ',', 'kishkindha-kshetra', 'or', 'bhaskara-kshetra—is', 'derived', 'from', 'pampa', ',', 'another', 'name', 'of', 'the', 'goddess', 'parvati', 'in', 'hindu', 'theology', '.', 'according', 'to', 'mythology', ',', 'the', 'maiden', 'parvati', '(', 'who', 'is', 'a', 'reincarnation', 'of', 'shiva', \"'s\", 'previous', 'wife', ',', 'sati', ')', 'resolves', 'to', 'marry', 'the', 'loner', 'ascetic', 'shiva', '.', '[', '13', ']', '[', '14', ']', 'her', 'parents', 'learn', 'of', 'her', 'desire', 'and', 'discourage', 'her', ',', 'but', 'she', 'pursues', 'her', 'desire', '.', 'shiva', 'is', 'lost', 'in', 'yogic', 'meditation', ',', 'oblivious', 'to', 'the', 'world', ';', 'parvati', 'appeals', 'to', 'the', 'gods', 'for', 'help', 'to', 'awaken', 'him', 'and', 'gain', 'his', 'attention', '.', 'indra', 'sends', 'kamadeva', '—', 'the', 'hindu', 'god', 'of', 'desire', ',', 'erotic', 'love', ',', 'attraction', ',', 'and', 'affection—to', 'awake', 'shiva', 'from', 'meditation', '.', 'kama', 'reaches', 'shiva', 'and', 'shoots', 'an', 'arrow', 'of', 'desire', '.', '[', '13', ']', '[', '14', ']', 'shiva', 'opens', 'his', 'third', 'eye', 'in', 'his', 'forehead', 'and', 'burns', 'kama', 'to', 'ashes', '.', 'parvati', 'does', 'not', 'lose', 'her', 'hope', 'or', 'her', 'resolve', 'to', 'win', 'over', 'shiva', ';', 'she', 'begins', 'to', 'live', 'like', 'him', 'and', 'engage', 'in', 'the', 'same', 'activities—asceticism', ',', 'yogin', 'and', 'tapasya—awakening', 'him', 'and', 'attracting', 'his', 'interest', '.', 'shiva', 'meets', 'parvati', 'in', 'disguised', 'form', 'and', 'tries', 'to', 'discourage', 'her', ',', 'telling', 'her', 'shiva', \"'s\", 'weaknesses', 'and', 'personality', 'problems', '.', '[', '13', ']', '[', '14', ']', 'parvati', 'refuses', 'to', 'listen', 'and', 'insists', 'in', 'her', 'resolve', '.', 'shiva', 'finally', 'accepts', 'her', 'and', 'they', 'get', 'married', '.', '[', '13', ']', '[', '14', ']', 'kama', 'was', 'later', 'brought', 'back', 'to', 'life', 'after', 'the', 'marriage', 'of', 'shiva', 'and', 'parvati', 'according', 'to', 'sthala', 'purana', ',', 'parvati', '(', 'pampa', ')', 'pursued', 'her', 'ascetic', ',', 'yogini', 'lifestyle', 'on', 'hemakuta', 'hill', ',', 'now', 'a', 'part', 'of', 'hampi', ',', 'to', 'win', 'and', 'bring', 'ascetic', 'shiva', 'back', 'into', 'householder', 'life', '.', '[', '15', ']', 'shiva', 'is', 'also', 'called', 'pampapati', '(', 'meaning', '``', 'husband', 'of', 'pampa', \"''\", ')', '.', '[', '15', ']', 'the', 'river', 'near', 'the', 'hemakuta', 'hill', 'came', 'to', 'be', 'known', 'as', 'pampa', 'river', '.', '[', '16', ']', 'the', 'sanskrit', 'word', 'pampa', 'morphed', 'into', 'the', 'kannada', 'word', 'hampa', 'and', 'the', 'place', 'parvati', 'pursued', 'shiva', 'came', 'to', 'be', 'known', 'as', 'hampe', 'or', 'hampi.the', 'site', 'was', 'an', 'early', 'medieval', 'era', 'pilgrimage', 'place', 'known', 'as', 'pampakshetra', '.', 'its', 'fame', 'came', 'from', 'the', 'kishkindha', 'chapters', 'of', 'the', 'hindu', 'epic', 'ramayana', ',', 'where', 'rama', 'and', 'lakshmana', 'meet', 'hanuman', ',', 'sugriva', 'and', 'the', 'monkey', 'army', 'in', 'their', 'search', 'for', 'kidnapped', 'sita', '.', 'the', 'hampi', 'area', 'has', 'many', 'close', 'resemblances', 'to', 'the', 'place', 'described', 'in', 'the', 'epic', '.', 'the', 'regional', 'tradition', 'believes', 'that', 'it', 'is', 'that', 'place', 'mentioned', 'in', 'the', 'ramayana', ',', 'attracting', 'pilgrims', '.', '[', '18', ']', 'it', 'was', 'brought', 'to', 'light', 'by', 'an', 'engineer', 'named', 'colonel', 'colin', 'mackenzie', 'during', 'the', '1800s', '.']\n",
            "Count:  897\n"
          ]
        }
      ],
      "source": [
        "tokens = word_tokenize(text)\n",
        "print(\"Tokens: \", tokens)\n",
        "print(\"Count: \", len(tokens))"
      ]
    },
    {
      "cell_type": "markdown",
      "metadata": {
        "id": "Y297z1Z2YjSU"
      },
      "source": [
        "### Removing Punctuations"
      ]
    },
    {
      "cell_type": "code",
      "execution_count": null,
      "metadata": {
        "colab": {
          "base_uri": "https://localhost:8080/"
        },
        "id": "NGkAwWnvV6zc",
        "outputId": "e108a694-c24e-4aa5-b8f8-3c82b9948db7"
      },
      "outputs": [
        {
          "output_type": "stream",
          "name": "stdout",
          "text": [
            "['hampi', 'or', 'hampe', 'also', 'referred', 'to', 'as', 'the', 'group', 'of', 'monuments', 'at', 'hampi', 'is', 'a', 'unesco', 'world', 'heritage', 'site', 'located', 'in', 'hampi', 'town', 'vijayanagara', 'district', 'east-central', 'karnataka', 'india', '2', 'hampi', 'was', 'the', 'capital', 'of', 'the', 'vijayanagara', 'empire', 'in', 'the', '14th', 'century', '3', 'it', 'was', 'a', 'fortified', 'city', 'chronicles', 'left', 'by', 'persian', 'and', 'european', 'travellers', 'particularly', 'the', 'portuguese', 'say', 'that', 'hampi', 'was', 'a', 'prosperous', 'wealthy', 'and', 'grand', 'city', 'near', 'the', 'tungabhadra', 'river', 'with', 'numerous', 'temples', 'farms', 'and', 'trading', 'markets', 'by', '1500', 'ce', 'hampi-vijayanagara', 'was', 'the', 'world', \"'s\", 'second-largest', 'medieval-era', 'city', 'after', 'beijing', 'and', 'probably', 'india', \"'s\", 'richest', 'at', 'that', 'time', 'attracting', 'traders', 'from', 'persia', 'and', 'portugal', '4', '5', 'the', 'vijayanagara', 'empire', 'was', 'defeated', 'by', 'a', 'coalition', 'of', 'muslim', 'sultanates', 'its', 'capital', 'was', 'conquered', 'pillaged', 'and', 'destroyed', 'by', 'sultanate', 'armies', 'in', '1565', 'after', 'which', 'hampi', 'remained', 'in', 'ruins', '3', '6', '7', 'located', 'in', 'karnataka', 'near', 'the', 'modern-era', 'city', 'of', 'hosapete', 'hampi', \"'s\", 'ruins', 'are', 'spread', 'over', '4,100', 'hectares', '16', 'sq', 'mi', 'and', 'it', 'has', 'been', 'described', 'by', 'unesco', 'as', 'an', '``', 'austere', 'grandiose', 'site', \"''\", 'of', 'more', 'than', '1,600', 'surviving', 'remains', 'of', 'the', 'last', 'great', 'hindu', 'kingdom', 'in', 'south', 'india', 'that', 'includes', '``', 'forts', 'riverside', 'features', 'royal', 'and', 'sacred', 'complexes', 'temples', 'shrines', 'pillared', 'halls', 'mandapas', 'memorial', 'structures', 'water', 'structures', 'and', 'others', \"''\", '8', 'hampi', 'predates', 'the', 'vijayanagara', 'empire', 'it', 'is', 'mentioned', 'in', 'the', 'ramayana', 'and', 'the', 'puranas', 'of', 'hinduism', 'as', 'pampaa', 'devi', 'tirtha', 'kshetra', '3', '9', 'hampi', 'continues', 'to', 'be', 'an', 'important', 'religious', 'centre', 'housing', 'the', 'virupaksha', 'temple', 'an', 'active', 'adi', 'shankara-linked', 'monastery', 'and', 'various', 'monuments', 'belonging', 'to', 'the', 'old', 'city.', '6', '10', 'hampi', 'is', 'situated', 'on', 'the', 'banks', 'of', 'the', 'tungabhadra', 'river', 'in', 'the', 'eastern', 'part', 'of', 'central', 'karnataka', 'near', 'the', 'state', 'border', 'with', 'andhra', 'pradesh', 'it', 'is', '376', 'kilometres', '234', 'mi', 'from', 'bengaluru', 'and', '165', 'kilometres', '103', 'mi', 'from', 'hubli', 'the', 'closest', 'railway', 'station', 'is', 'in', 'hosapete', 'hospet', '13', 'kilometres', '8.1', 'mi', 'away', 'and', 'the', 'closest', 'airport', 'is', '32', 'kilometres', '20', 'mi', 'jindal', 'vijaynagar', 'airport', 'in', 'toranagallu', 'which', 'has', 'connectivity', 'to', 'bengaluru', 'overnight', 'buses', 'and', 'trains', 'also', 'connect', 'hampi', 'with', 'goa', 'and', 'bengaluru', '11', 'it', 'is', '140', 'kilometres', '87', 'mi', 'southeast', 'of', 'the', 'badami', 'and', 'aihole', 'archaeological', 'sites', '11', '12', 'the', 'synonym', 'hampi—traditionally', 'known', 'as', 'pampa-kshetra', 'kishkindha-kshetra', 'or', 'bhaskara-kshetra—is', 'derived', 'from', 'pampa', 'another', 'name', 'of', 'the', 'goddess', 'parvati', 'in', 'hindu', 'theology', 'according', 'to', 'mythology', 'the', 'maiden', 'parvati', 'who', 'is', 'a', 'reincarnation', 'of', 'shiva', \"'s\", 'previous', 'wife', 'sati', 'resolves', 'to', 'marry', 'the', 'loner', 'ascetic', 'shiva', '13', '14', 'her', 'parents', 'learn', 'of', 'her', 'desire', 'and', 'discourage', 'her', 'but', 'she', 'pursues', 'her', 'desire', 'shiva', 'is', 'lost', 'in', 'yogic', 'meditation', 'oblivious', 'to', 'the', 'world', 'parvati', 'appeals', 'to', 'the', 'gods', 'for', 'help', 'to', 'awaken', 'him', 'and', 'gain', 'his', 'attention', 'indra', 'sends', 'kamadeva', '—', 'the', 'hindu', 'god', 'of', 'desire', 'erotic', 'love', 'attraction', 'and', 'affection—to', 'awake', 'shiva', 'from', 'meditation', 'kama', 'reaches', 'shiva', 'and', 'shoots', 'an', 'arrow', 'of', 'desire', '13', '14', 'shiva', 'opens', 'his', 'third', 'eye', 'in', 'his', 'forehead', 'and', 'burns', 'kama', 'to', 'ashes', 'parvati', 'does', 'not', 'lose', 'her', 'hope', 'or', 'her', 'resolve', 'to', 'win', 'over', 'shiva', 'she', 'begins', 'to', 'live', 'like', 'him', 'and', 'engage', 'in', 'the', 'same', 'activities—asceticism', 'yogin', 'and', 'tapasya—awakening', 'him', 'and', 'attracting', 'his', 'interest', 'shiva', 'meets', 'parvati', 'in', 'disguised', 'form', 'and', 'tries', 'to', 'discourage', 'her', 'telling', 'her', 'shiva', \"'s\", 'weaknesses', 'and', 'personality', 'problems', '13', '14', 'parvati', 'refuses', 'to', 'listen', 'and', 'insists', 'in', 'her', 'resolve', 'shiva', 'finally', 'accepts', 'her', 'and', 'they', 'get', 'married', '13', '14', 'kama', 'was', 'later', 'brought', 'back', 'to', 'life', 'after', 'the', 'marriage', 'of', 'shiva', 'and', 'parvati', 'according', 'to', 'sthala', 'purana', 'parvati', 'pampa', 'pursued', 'her', 'ascetic', 'yogini', 'lifestyle', 'on', 'hemakuta', 'hill', 'now', 'a', 'part', 'of', 'hampi', 'to', 'win', 'and', 'bring', 'ascetic', 'shiva', 'back', 'into', 'householder', 'life', '15', 'shiva', 'is', 'also', 'called', 'pampapati', 'meaning', '``', 'husband', 'of', 'pampa', \"''\", '15', 'the', 'river', 'near', 'the', 'hemakuta', 'hill', 'came', 'to', 'be', 'known', 'as', 'pampa', 'river', '16', 'the', 'sanskrit', 'word', 'pampa', 'morphed', 'into', 'the', 'kannada', 'word', 'hampa', 'and', 'the', 'place', 'parvati', 'pursued', 'shiva', 'came', 'to', 'be', 'known', 'as', 'hampe', 'or', 'hampi.the', 'site', 'was', 'an', 'early', 'medieval', 'era', 'pilgrimage', 'place', 'known', 'as', 'pampakshetra', 'its', 'fame', 'came', 'from', 'the', 'kishkindha', 'chapters', 'of', 'the', 'hindu', 'epic', 'ramayana', 'where', 'rama', 'and', 'lakshmana', 'meet', 'hanuman', 'sugriva', 'and', 'the', 'monkey', 'army', 'in', 'their', 'search', 'for', 'kidnapped', 'sita', 'the', 'hampi', 'area', 'has', 'many', 'close', 'resemblances', 'to', 'the', 'place', 'described', 'in', 'the', 'epic', 'the', 'regional', 'tradition', 'believes', 'that', 'it', 'is', 'that', 'place', 'mentioned', 'in', 'the', 'ramayana', 'attracting', 'pilgrims', '18', 'it', 'was', 'brought', 'to', 'light', 'by', 'an', 'engineer', 'named', 'colonel', 'colin', 'mackenzie', 'during', 'the', '1800s']\n",
            "count:  738\n"
          ]
        }
      ],
      "source": [
        "processed_text  =[]\n",
        "for i in tokens:\n",
        "  if i not in string.punctuation:\n",
        "    processed_text.append(i)\n",
        "print(processed_text)\n",
        "print(\"count: \", len(processed_text))"
      ]
    },
    {
      "cell_type": "code",
      "execution_count": null,
      "metadata": {
        "id": "E9s8i6Exv9Le"
      },
      "outputs": [],
      "source": [
        "unigrams=[]\n",
        "unigram_count={}\n",
        "def createUnigram(data):\n",
        "\n",
        "  for i in range(len(data)):\n",
        "    if i <len(data):\n",
        "      unigrams.append((data[i]))\n",
        "    if (data[i]) in unigram_count:\n",
        "      unigram_count[(data[i])]+=1\n",
        "    else:\n",
        "      unigram_count[(data[i])]=1\n",
        "  return unigram_count\n",
        "\n",
        "createUnigram(processed_text)"
      ]
    },
    {
      "cell_type": "code",
      "execution_count": null,
      "metadata": {
        "colab": {
          "base_uri": "https://localhost:8080/"
        },
        "id": "Yq9RkATBUl0v",
        "outputId": "ba4bf1bd-9a55-45ec-e2b6-cc44aed3583c"
      },
      "outputs": [
        {
          "output_type": "stream",
          "name": "stdout",
          "text": [
            "Bi-grams: [('hampi', 'or'), ('or', 'hampe'), ('hampe', 'also'), ('also', 'referred'), ('referred', 'to'), ('to', 'as'), ('as', 'the'), ('the', 'group'), ('group', 'of'), ('of', 'monuments'), ('monuments', 'at'), ('at', 'hampi'), ('hampi', 'is'), ('is', 'a'), ('a', 'unesco'), ('unesco', 'world'), ('world', 'heritage'), ('heritage', 'site'), ('site', 'located'), ('located', 'in'), ('in', 'hampi'), ('hampi', 'town'), ('town', 'vijayanagara'), ('vijayanagara', 'district'), ('district', 'east-central'), ('east-central', 'karnataka'), ('karnataka', 'india'), ('india', '2'), ('2', 'hampi'), ('hampi', 'was'), ('was', 'the'), ('the', 'capital'), ('capital', 'of'), ('of', 'the'), ('the', 'vijayanagara'), ('vijayanagara', 'empire'), ('empire', 'in'), ('in', 'the'), ('the', '14th'), ('14th', 'century'), ('century', '3'), ('3', 'it'), ('it', 'was'), ('was', 'a'), ('a', 'fortified'), ('fortified', 'city'), ('city', 'chronicles'), ('chronicles', 'left'), ('left', 'by'), ('by', 'persian'), ('persian', 'and'), ('and', 'european'), ('european', 'travellers'), ('travellers', 'particularly'), ('particularly', 'the'), ('the', 'portuguese'), ('portuguese', 'say'), ('say', 'that'), ('that', 'hampi'), ('hampi', 'was'), ('was', 'a'), ('a', 'prosperous'), ('prosperous', 'wealthy'), ('wealthy', 'and'), ('and', 'grand'), ('grand', 'city'), ('city', 'near'), ('near', 'the'), ('the', 'tungabhadra'), ('tungabhadra', 'river'), ('river', 'with'), ('with', 'numerous'), ('numerous', 'temples'), ('temples', 'farms'), ('farms', 'and'), ('and', 'trading'), ('trading', 'markets'), ('markets', 'by'), ('by', '1500'), ('1500', 'ce'), ('ce', 'hampi-vijayanagara'), ('hampi-vijayanagara', 'was'), ('was', 'the'), ('the', 'world'), ('world', \"'s\"), (\"'s\", 'second-largest'), ('second-largest', 'medieval-era'), ('medieval-era', 'city'), ('city', 'after'), ('after', 'beijing'), ('beijing', 'and'), ('and', 'probably'), ('probably', 'india'), ('india', \"'s\"), (\"'s\", 'richest'), ('richest', 'at'), ('at', 'that'), ('that', 'time'), ('time', 'attracting'), ('attracting', 'traders'), ('traders', 'from'), ('from', 'persia'), ('persia', 'and'), ('and', 'portugal'), ('portugal', '4'), ('4', '5'), ('5', 'the'), ('the', 'vijayanagara'), ('vijayanagara', 'empire'), ('empire', 'was'), ('was', 'defeated'), ('defeated', 'by'), ('by', 'a'), ('a', 'coalition'), ('coalition', 'of'), ('of', 'muslim'), ('muslim', 'sultanates'), ('sultanates', 'its'), ('its', 'capital'), ('capital', 'was'), ('was', 'conquered'), ('conquered', 'pillaged'), ('pillaged', 'and'), ('and', 'destroyed'), ('destroyed', 'by'), ('by', 'sultanate'), ('sultanate', 'armies'), ('armies', 'in'), ('in', '1565'), ('1565', 'after'), ('after', 'which'), ('which', 'hampi'), ('hampi', 'remained'), ('remained', 'in'), ('in', 'ruins'), ('ruins', '3'), ('3', '6'), ('6', '7'), ('7', 'located'), ('located', 'in'), ('in', 'karnataka'), ('karnataka', 'near'), ('near', 'the'), ('the', 'modern-era'), ('modern-era', 'city'), ('city', 'of'), ('of', 'hosapete'), ('hosapete', 'hampi'), ('hampi', \"'s\"), (\"'s\", 'ruins'), ('ruins', 'are'), ('are', 'spread'), ('spread', 'over'), ('over', '4,100'), ('4,100', 'hectares'), ('hectares', '16'), ('16', 'sq'), ('sq', 'mi'), ('mi', 'and'), ('and', 'it'), ('it', 'has'), ('has', 'been'), ('been', 'described'), ('described', 'by'), ('by', 'unesco'), ('unesco', 'as'), ('as', 'an'), ('an', '``'), ('``', 'austere'), ('austere', 'grandiose'), ('grandiose', 'site'), ('site', \"''\"), (\"''\", 'of'), ('of', 'more'), ('more', 'than'), ('than', '1,600'), ('1,600', 'surviving'), ('surviving', 'remains'), ('remains', 'of'), ('of', 'the'), ('the', 'last'), ('last', 'great'), ('great', 'hindu'), ('hindu', 'kingdom'), ('kingdom', 'in'), ('in', 'south'), ('south', 'india'), ('india', 'that'), ('that', 'includes'), ('includes', '``'), ('``', 'forts'), ('forts', 'riverside'), ('riverside', 'features'), ('features', 'royal'), ('royal', 'and'), ('and', 'sacred'), ('sacred', 'complexes'), ('complexes', 'temples'), ('temples', 'shrines'), ('shrines', 'pillared'), ('pillared', 'halls'), ('halls', 'mandapas'), ('mandapas', 'memorial'), ('memorial', 'structures'), ('structures', 'water'), ('water', 'structures'), ('structures', 'and'), ('and', 'others'), ('others', \"''\"), (\"''\", '8'), ('8', 'hampi'), ('hampi', 'predates'), ('predates', 'the'), ('the', 'vijayanagara'), ('vijayanagara', 'empire'), ('empire', 'it'), ('it', 'is'), ('is', 'mentioned'), ('mentioned', 'in'), ('in', 'the'), ('the', 'ramayana'), ('ramayana', 'and'), ('and', 'the'), ('the', 'puranas'), ('puranas', 'of'), ('of', 'hinduism'), ('hinduism', 'as'), ('as', 'pampaa'), ('pampaa', 'devi'), ('devi', 'tirtha'), ('tirtha', 'kshetra'), ('kshetra', '3'), ('3', '9'), ('9', 'hampi'), ('hampi', 'continues'), ('continues', 'to'), ('to', 'be'), ('be', 'an'), ('an', 'important'), ('important', 'religious'), ('religious', 'centre'), ('centre', 'housing'), ('housing', 'the'), ('the', 'virupaksha'), ('virupaksha', 'temple'), ('temple', 'an'), ('an', 'active'), ('active', 'adi'), ('adi', 'shankara-linked'), ('shankara-linked', 'monastery'), ('monastery', 'and'), ('and', 'various'), ('various', 'monuments'), ('monuments', 'belonging'), ('belonging', 'to'), ('to', 'the'), ('the', 'old'), ('old', 'city.'), ('city.', '6'), ('6', '10'), ('10', 'hampi'), ('hampi', 'is'), ('is', 'situated'), ('situated', 'on'), ('on', 'the'), ('the', 'banks'), ('banks', 'of'), ('of', 'the'), ('the', 'tungabhadra'), ('tungabhadra', 'river'), ('river', 'in'), ('in', 'the'), ('the', 'eastern'), ('eastern', 'part'), ('part', 'of'), ('of', 'central'), ('central', 'karnataka'), ('karnataka', 'near'), ('near', 'the'), ('the', 'state'), ('state', 'border'), ('border', 'with'), ('with', 'andhra'), ('andhra', 'pradesh'), ('pradesh', 'it'), ('it', 'is'), ('is', '376'), ('376', 'kilometres'), ('kilometres', '234'), ('234', 'mi'), ('mi', 'from'), ('from', 'bengaluru'), ('bengaluru', 'and'), ('and', '165'), ('165', 'kilometres'), ('kilometres', '103'), ('103', 'mi'), ('mi', 'from'), ('from', 'hubli'), ('hubli', 'the'), ('the', 'closest'), ('closest', 'railway'), ('railway', 'station'), ('station', 'is'), ('is', 'in'), ('in', 'hosapete'), ('hosapete', 'hospet'), ('hospet', '13'), ('13', 'kilometres'), ('kilometres', '8.1'), ('8.1', 'mi'), ('mi', 'away'), ('away', 'and'), ('and', 'the'), ('the', 'closest'), ('closest', 'airport'), ('airport', 'is'), ('is', '32'), ('32', 'kilometres'), ('kilometres', '20'), ('20', 'mi'), ('mi', 'jindal'), ('jindal', 'vijaynagar'), ('vijaynagar', 'airport'), ('airport', 'in'), ('in', 'toranagallu'), ('toranagallu', 'which'), ('which', 'has'), ('has', 'connectivity'), ('connectivity', 'to'), ('to', 'bengaluru'), ('bengaluru', 'overnight'), ('overnight', 'buses'), ('buses', 'and'), ('and', 'trains'), ('trains', 'also'), ('also', 'connect'), ('connect', 'hampi'), ('hampi', 'with'), ('with', 'goa'), ('goa', 'and'), ('and', 'bengaluru'), ('bengaluru', '11'), ('11', 'it'), ('it', 'is'), ('is', '140'), ('140', 'kilometres'), ('kilometres', '87'), ('87', 'mi'), ('mi', 'southeast'), ('southeast', 'of'), ('of', 'the'), ('the', 'badami'), ('badami', 'and'), ('and', 'aihole'), ('aihole', 'archaeological'), ('archaeological', 'sites'), ('sites', '11'), ('11', '12'), ('12', 'the'), ('the', 'synonym'), ('synonym', 'hampi—traditionally'), ('hampi—traditionally', 'known'), ('known', 'as'), ('as', 'pampa-kshetra'), ('pampa-kshetra', 'kishkindha-kshetra'), ('kishkindha-kshetra', 'or'), ('or', 'bhaskara-kshetra—is'), ('bhaskara-kshetra—is', 'derived'), ('derived', 'from'), ('from', 'pampa'), ('pampa', 'another'), ('another', 'name'), ('name', 'of'), ('of', 'the'), ('the', 'goddess'), ('goddess', 'parvati'), ('parvati', 'in'), ('in', 'hindu'), ('hindu', 'theology'), ('theology', 'according'), ('according', 'to'), ('to', 'mythology'), ('mythology', 'the'), ('the', 'maiden'), ('maiden', 'parvati'), ('parvati', 'who'), ('who', 'is'), ('is', 'a'), ('a', 'reincarnation'), ('reincarnation', 'of'), ('of', 'shiva'), ('shiva', \"'s\"), (\"'s\", 'previous'), ('previous', 'wife'), ('wife', 'sati'), ('sati', 'resolves'), ('resolves', 'to'), ('to', 'marry'), ('marry', 'the'), ('the', 'loner'), ('loner', 'ascetic'), ('ascetic', 'shiva'), ('shiva', '13'), ('13', '14'), ('14', 'her'), ('her', 'parents'), ('parents', 'learn'), ('learn', 'of'), ('of', 'her'), ('her', 'desire'), ('desire', 'and'), ('and', 'discourage'), ('discourage', 'her'), ('her', 'but'), ('but', 'she'), ('she', 'pursues'), ('pursues', 'her'), ('her', 'desire'), ('desire', 'shiva'), ('shiva', 'is'), ('is', 'lost'), ('lost', 'in'), ('in', 'yogic'), ('yogic', 'meditation'), ('meditation', 'oblivious'), ('oblivious', 'to'), ('to', 'the'), ('the', 'world'), ('world', 'parvati'), ('parvati', 'appeals'), ('appeals', 'to'), ('to', 'the'), ('the', 'gods'), ('gods', 'for'), ('for', 'help'), ('help', 'to'), ('to', 'awaken'), ('awaken', 'him'), ('him', 'and'), ('and', 'gain'), ('gain', 'his'), ('his', 'attention'), ('attention', 'indra'), ('indra', 'sends'), ('sends', 'kamadeva'), ('kamadeva', '—'), ('—', 'the'), ('the', 'hindu'), ('hindu', 'god'), ('god', 'of'), ('of', 'desire'), ('desire', 'erotic'), ('erotic', 'love'), ('love', 'attraction'), ('attraction', 'and'), ('and', 'affection—to'), ('affection—to', 'awake'), ('awake', 'shiva'), ('shiva', 'from'), ('from', 'meditation'), ('meditation', 'kama'), ('kama', 'reaches'), ('reaches', 'shiva'), ('shiva', 'and'), ('and', 'shoots'), ('shoots', 'an'), ('an', 'arrow'), ('arrow', 'of'), ('of', 'desire'), ('desire', '13'), ('13', '14'), ('14', 'shiva'), ('shiva', 'opens'), ('opens', 'his'), ('his', 'third'), ('third', 'eye'), ('eye', 'in'), ('in', 'his'), ('his', 'forehead'), ('forehead', 'and'), ('and', 'burns'), ('burns', 'kama'), ('kama', 'to'), ('to', 'ashes'), ('ashes', 'parvati'), ('parvati', 'does'), ('does', 'not'), ('not', 'lose'), ('lose', 'her'), ('her', 'hope'), ('hope', 'or'), ('or', 'her'), ('her', 'resolve'), ('resolve', 'to'), ('to', 'win'), ('win', 'over'), ('over', 'shiva'), ('shiva', 'she'), ('she', 'begins'), ('begins', 'to'), ('to', 'live'), ('live', 'like'), ('like', 'him'), ('him', 'and'), ('and', 'engage'), ('engage', 'in'), ('in', 'the'), ('the', 'same'), ('same', 'activities—asceticism'), ('activities—asceticism', 'yogin'), ('yogin', 'and'), ('and', 'tapasya—awakening'), ('tapasya—awakening', 'him'), ('him', 'and'), ('and', 'attracting'), ('attracting', 'his'), ('his', 'interest'), ('interest', 'shiva'), ('shiva', 'meets'), ('meets', 'parvati'), ('parvati', 'in'), ('in', 'disguised'), ('disguised', 'form'), ('form', 'and'), ('and', 'tries'), ('tries', 'to'), ('to', 'discourage'), ('discourage', 'her'), ('her', 'telling'), ('telling', 'her'), ('her', 'shiva'), ('shiva', \"'s\"), (\"'s\", 'weaknesses'), ('weaknesses', 'and'), ('and', 'personality'), ('personality', 'problems'), ('problems', '13'), ('13', '14'), ('14', 'parvati'), ('parvati', 'refuses'), ('refuses', 'to'), ('to', 'listen'), ('listen', 'and'), ('and', 'insists'), ('insists', 'in'), ('in', 'her'), ('her', 'resolve'), ('resolve', 'shiva'), ('shiva', 'finally'), ('finally', 'accepts'), ('accepts', 'her'), ('her', 'and'), ('and', 'they'), ('they', 'get'), ('get', 'married'), ('married', '13'), ('13', '14'), ('14', 'kama'), ('kama', 'was'), ('was', 'later'), ('later', 'brought'), ('brought', 'back'), ('back', 'to'), ('to', 'life'), ('life', 'after'), ('after', 'the'), ('the', 'marriage'), ('marriage', 'of'), ('of', 'shiva'), ('shiva', 'and'), ('and', 'parvati'), ('parvati', 'according'), ('according', 'to'), ('to', 'sthala'), ('sthala', 'purana'), ('purana', 'parvati'), ('parvati', 'pampa'), ('pampa', 'pursued'), ('pursued', 'her'), ('her', 'ascetic'), ('ascetic', 'yogini'), ('yogini', 'lifestyle'), ('lifestyle', 'on'), ('on', 'hemakuta'), ('hemakuta', 'hill'), ('hill', 'now'), ('now', 'a'), ('a', 'part'), ('part', 'of'), ('of', 'hampi'), ('hampi', 'to'), ('to', 'win'), ('win', 'and'), ('and', 'bring'), ('bring', 'ascetic'), ('ascetic', 'shiva'), ('shiva', 'back'), ('back', 'into'), ('into', 'householder'), ('householder', 'life'), ('life', '15'), ('15', 'shiva'), ('shiva', 'is'), ('is', 'also'), ('also', 'called'), ('called', 'pampapati'), ('pampapati', 'meaning'), ('meaning', '``'), ('``', 'husband'), ('husband', 'of'), ('of', 'pampa'), ('pampa', \"''\"), (\"''\", '15'), ('15', 'the'), ('the', 'river'), ('river', 'near'), ('near', 'the'), ('the', 'hemakuta'), ('hemakuta', 'hill'), ('hill', 'came'), ('came', 'to'), ('to', 'be'), ('be', 'known'), ('known', 'as'), ('as', 'pampa'), ('pampa', 'river'), ('river', '16'), ('16', 'the'), ('the', 'sanskrit'), ('sanskrit', 'word'), ('word', 'pampa'), ('pampa', 'morphed'), ('morphed', 'into'), ('into', 'the'), ('the', 'kannada'), ('kannada', 'word'), ('word', 'hampa'), ('hampa', 'and'), ('and', 'the'), ('the', 'place'), ('place', 'parvati'), ('parvati', 'pursued'), ('pursued', 'shiva'), ('shiva', 'came'), ('came', 'to'), ('to', 'be'), ('be', 'known'), ('known', 'as'), ('as', 'hampe'), ('hampe', 'or'), ('or', 'hampi.the'), ('hampi.the', 'site'), ('site', 'was'), ('was', 'an'), ('an', 'early'), ('early', 'medieval'), ('medieval', 'era'), ('era', 'pilgrimage'), ('pilgrimage', 'place'), ('place', 'known'), ('known', 'as'), ('as', 'pampakshetra'), ('pampakshetra', 'its'), ('its', 'fame'), ('fame', 'came'), ('came', 'from'), ('from', 'the'), ('the', 'kishkindha'), ('kishkindha', 'chapters'), ('chapters', 'of'), ('of', 'the'), ('the', 'hindu'), ('hindu', 'epic'), ('epic', 'ramayana'), ('ramayana', 'where'), ('where', 'rama'), ('rama', 'and'), ('and', 'lakshmana'), ('lakshmana', 'meet'), ('meet', 'hanuman'), ('hanuman', 'sugriva'), ('sugriva', 'and'), ('and', 'the'), ('the', 'monkey'), ('monkey', 'army'), ('army', 'in'), ('in', 'their'), ('their', 'search'), ('search', 'for'), ('for', 'kidnapped'), ('kidnapped', 'sita'), ('sita', 'the'), ('the', 'hampi'), ('hampi', 'area'), ('area', 'has'), ('has', 'many'), ('many', 'close'), ('close', 'resemblances'), ('resemblances', 'to'), ('to', 'the'), ('the', 'place'), ('place', 'described'), ('described', 'in'), ('in', 'the'), ('the', 'epic'), ('epic', 'the'), ('the', 'regional'), ('regional', 'tradition'), ('tradition', 'believes'), ('believes', 'that'), ('that', 'it'), ('it', 'is'), ('is', 'that'), ('that', 'place'), ('place', 'mentioned'), ('mentioned', 'in'), ('in', 'the'), ('the', 'ramayana'), ('ramayana', 'attracting'), ('attracting', 'pilgrims'), ('pilgrims', '18'), ('18', 'it'), ('it', 'was'), ('was', 'brought'), ('brought', 'to'), ('to', 'light'), ('light', 'by'), ('by', 'an'), ('an', 'engineer'), ('engineer', 'named'), ('named', 'colonel'), ('colonel', 'colin'), ('colin', 'mackenzie'), ('mackenzie', 'during'), ('during', 'the'), ('the', '1800s')]\n",
            "Count:  737\n"
          ]
        }
      ],
      "source": [
        "bigrams =[]\n",
        "bigram_count={}\n",
        "for i in range(len(processed_text)-1):\n",
        "  if i <len(processed_text):\n",
        "    bigrams.append((processed_text[i], processed_text[i+1]))\n",
        "print(\"Bi-grams:\", bigrams)\n",
        "print(\"Count: \", len(bigrams))"
      ]
    },
    {
      "cell_type": "code",
      "execution_count": null,
      "metadata": {
        "id": "Chz9JSzDaaFM"
      },
      "outputs": [],
      "source": [
        "for i in range(len(processed_text)-1):\n",
        "  if (processed_text[i],processed_text[i+1]) in bigram_count:\n",
        "    bigram_count[(processed_text[i], processed_text[i+1])]+=1\n",
        "  else:\n",
        "    bigram_count[(processed_text[i], processed_text[i+1])]=1\n",
        "bigram_count"
      ]
    },
    {
      "cell_type": "code",
      "execution_count": null,
      "metadata": {
        "id": "q_em8NBohgKI"
      },
      "outputs": [],
      "source": [
        "trigrams=[]\n",
        "trigram_count={}\n",
        "def createTrigram(data):\n",
        "  for i in range(len(data)-2):\n",
        "    if i <len(data):\n",
        "      trigrams.append((data[i], data[i+1], data[i+2]))\n",
        "    if (data[i], data[i+1], data[i+2]) in trigram_count:\n",
        "      trigram_count[(data[i], data[i+1], data[i+2])]+=1\n",
        "    else:\n",
        "      trigram_count[(data[i], data[i+1], data[i+2])]=1\n",
        "  return trigrams, trigram_count"
      ]
    },
    {
      "cell_type": "code",
      "execution_count": null,
      "metadata": {
        "id": "_isi7ZOghiCW"
      },
      "outputs": [],
      "source": [
        "createTrigram(processed_text)"
      ]
    },
    {
      "cell_type": "code",
      "source": [
        "proba={}\n",
        "def calculate_proba(bigrams, unigram_count, bigram_count):\n",
        "\n",
        "  for i in bigrams:\n",
        "    word1=i[0]\n",
        "    word2 =i[1]\n",
        "    proba[i]=(bigram_count.get(i))/unigram_count.get(word1)\n",
        "  return proba\n",
        "calculate_proba(bigrams, unigram_count, bigram_count)"
      ],
      "metadata": {
        "id": "lTMSJhx22FZt"
      },
      "execution_count": null,
      "outputs": []
    },
    {
      "cell_type": "code",
      "source": [
        "sent = input(\"Enter a sentence in the corpus: \")\n",
        "contractions.fix(sent)\n",
        "sent = sent.lower()\n",
        "sent = word_tokenize(sent)\n",
        "\n",
        "processed_sent  =[]\n",
        "for i in sent:\n",
        "  if i not in string.punctuation:\n",
        "    processed_sent.append(i)\n",
        "print(processed_sent)\n",
        "\n",
        "\n",
        "keys =list(proba.keys())\n",
        "val=list(proba.values())\n",
        "max_v=max(val)\n",
        "max_k=keys[val.index(max(val))]\n",
        "print(f\"The predicted word after the sentence '{sent}' is '{max_k}' with probability '{max_v}'\")"
      ],
      "metadata": {
        "colab": {
          "base_uri": "https://localhost:8080/"
        },
        "id": "c5lwgSbl96rS",
        "outputId": "732d76d0-202f-4a27-8dfc-7a7e42d6278c"
      },
      "execution_count": null,
      "outputs": [
        {
          "output_type": "stream",
          "name": "stdout",
          "text": [
            "Enter a sentence in the corpus: hampi  is\n",
            "['hampi', 'is']\n",
            "The predicted word after the sentence '['hampi', 'is']' is '('referred', 'to')' with probability '1.0'\n"
          ]
        }
      ]
    },
    {
      "cell_type": "markdown",
      "source": [
        " Corpus"
      ],
      "metadata": {
        "id": "4yp7PCceFleg"
      }
    },
    {
      "cell_type": "code",
      "source": [
        "txt = \"\"\" The girl bought a chocolate. The boy ate the chocolate. The girl bought a toy. The girl played with the toy\"\"\"\n",
        "print(txt)"
      ],
      "metadata": {
        "colab": {
          "base_uri": "https://localhost:8080/"
        },
        "id": "Gzh5pqEA2HS3",
        "outputId": "936d0d42-223e-4c78-9250-c3cadff6693c"
      },
      "execution_count": null,
      "outputs": [
        {
          "output_type": "stream",
          "name": "stdout",
          "text": [
            " The girl bought a chocolate. The boy ate the chocolate. The girl bought a toy. The girl played with the toy\n"
          ]
        }
      ]
    },
    {
      "cell_type": "markdown",
      "source": [
        "Preprocessing"
      ],
      "metadata": {
        "id": "rS9k3-l2FnGo"
      }
    },
    {
      "cell_type": "code",
      "source": [
        "txt1 =contractions.fix(txt)\n",
        "txt1 = txt1.lower()\n",
        "tokens1 =word_tokenize(txt1)\n",
        "processed_tokens = []\n",
        "for i in tokens1:\n",
        "   if i not in string.punctuation:\n",
        "    processed_tokens.append(i)\n",
        "print(processed_tokens)\n",
        "print(\"count: \", len(processed_tokens))"
      ],
      "metadata": {
        "colab": {
          "base_uri": "https://localhost:8080/"
        },
        "id": "oimtsXzG5Y7y",
        "outputId": "5b38e4f3-d64d-428c-f3e2-3320ecb833a2"
      },
      "execution_count": null,
      "outputs": [
        {
          "output_type": "stream",
          "name": "stdout",
          "text": [
            "['the', 'girl', 'bought', 'a', 'chocolate', 'the', 'boy', 'ate', 'the', 'chocolate', 'the', 'girl', 'bought', 'a', 'toy', 'the', 'girl', 'played', 'with', 'the', 'toy']\n",
            "count:  21\n"
          ]
        }
      ]
    },
    {
      "cell_type": "markdown",
      "source": [
        "Count of Unigrams"
      ],
      "metadata": {
        "id": "T2d9ZO1tFqPH"
      }
    },
    {
      "cell_type": "code",
      "source": [
        "unigrams=[]\n",
        "unigram_count={}\n",
        "def createUnigram(data):\n",
        "\n",
        "  for i in range(len(data)):\n",
        "    if i <len(data):\n",
        "      unigrams.append((data[i]))\n",
        "    if (data[i]) in unigram_count:\n",
        "      unigram_count[(data[i])]+=1\n",
        "    else:\n",
        "      unigram_count[(data[i])]=1\n",
        "  return unigram_count\n",
        "\n",
        "createUnigram(processed_tokens)"
      ],
      "metadata": {
        "colab": {
          "base_uri": "https://localhost:8080/"
        },
        "id": "Mx5AMZA05ozd",
        "outputId": "ffe9bbcf-4060-4734-fc2e-338f38c09641"
      },
      "execution_count": null,
      "outputs": [
        {
          "output_type": "execute_result",
          "data": {
            "text/plain": [
              "{'the': 6,\n",
              " 'girl': 3,\n",
              " 'bought': 2,\n",
              " 'a': 2,\n",
              " 'chocolate': 2,\n",
              " 'boy': 1,\n",
              " 'ate': 1,\n",
              " 'toy': 2,\n",
              " 'played': 1,\n",
              " 'with': 1}"
            ]
          },
          "metadata": {},
          "execution_count": 6
        }
      ]
    },
    {
      "cell_type": "markdown",
      "source": [
        "Count of Bigrams"
      ],
      "metadata": {
        "id": "q1z5SEvcFucw"
      }
    },
    {
      "cell_type": "code",
      "source": [
        "bigrams =[]\n",
        "bigram_count={}\n",
        "def bigram(data):\n",
        "  for i in range(len(data)-1):\n",
        "    if i <len(data):\n",
        "      bigrams.append((data[i],data[i+1]))\n",
        "    if (data[i],data[i+1]) in bigram_count:\n",
        "      bigram_count[(data[i], data[i+1])]+=1\n",
        "    else:\n",
        "      bigram_count[(data[i], data[i+1])]=1\n",
        "  return bigram_count\n",
        "\n",
        "bigram(processed_tokens)"
      ],
      "metadata": {
        "colab": {
          "base_uri": "https://localhost:8080/"
        },
        "id": "Up6Wwd-67Bjo",
        "outputId": "91c30d22-847e-4127-a369-666c8803f56f"
      },
      "execution_count": null,
      "outputs": [
        {
          "output_type": "execute_result",
          "data": {
            "text/plain": [
              "{('the', 'girl'): 3,\n",
              " ('girl', 'bought'): 2,\n",
              " ('bought', 'a'): 2,\n",
              " ('a', 'chocolate'): 1,\n",
              " ('chocolate', 'the'): 2,\n",
              " ('the', 'boy'): 1,\n",
              " ('boy', 'ate'): 1,\n",
              " ('ate', 'the'): 1,\n",
              " ('the', 'chocolate'): 1,\n",
              " ('a', 'toy'): 1,\n",
              " ('toy', 'the'): 1,\n",
              " ('girl', 'played'): 1,\n",
              " ('played', 'with'): 1,\n",
              " ('with', 'the'): 1,\n",
              " ('the', 'toy'): 1}"
            ]
          },
          "metadata": {},
          "execution_count": 7
        }
      ]
    },
    {
      "cell_type": "markdown",
      "source": [
        "Count of Trigrams"
      ],
      "metadata": {
        "id": "j86w3zoHFwS7"
      }
    },
    {
      "cell_type": "code",
      "source": [
        "trigrams=[]\n",
        "trigram_count={}\n",
        "def createTrigram(data):\n",
        "  for i in range(len(data)-2):\n",
        "    if i <len(data):\n",
        "      trigrams.append((data[i], data[i+1], data[i+2]))\n",
        "    if (data[i], data[i+1], data[i+2]) in trigram_count:\n",
        "      trigram_count[(data[i], data[i+1], data[i+2])]+=1\n",
        "    else:\n",
        "      trigram_count[(data[i], data[i+1], data[i+2])]=1\n",
        "  return  trigram_count\n",
        "createTrigram(processed_tokens)"
      ],
      "metadata": {
        "colab": {
          "base_uri": "https://localhost:8080/"
        },
        "id": "92q0UPpn8HjA",
        "outputId": "4bf3f3fc-42a3-47eb-aabe-cab1d833ecf4"
      },
      "execution_count": null,
      "outputs": [
        {
          "output_type": "execute_result",
          "data": {
            "text/plain": [
              "{('the', 'girl', 'bought'): 2,\n",
              " ('girl', 'bought', 'a'): 2,\n",
              " ('bought', 'a', 'chocolate'): 1,\n",
              " ('a', 'chocolate', 'the'): 1,\n",
              " ('chocolate', 'the', 'boy'): 1,\n",
              " ('the', 'boy', 'ate'): 1,\n",
              " ('boy', 'ate', 'the'): 1,\n",
              " ('ate', 'the', 'chocolate'): 1,\n",
              " ('the', 'chocolate', 'the'): 1,\n",
              " ('chocolate', 'the', 'girl'): 1,\n",
              " ('bought', 'a', 'toy'): 1,\n",
              " ('a', 'toy', 'the'): 1,\n",
              " ('toy', 'the', 'girl'): 1,\n",
              " ('the', 'girl', 'played'): 1,\n",
              " ('girl', 'played', 'with'): 1,\n",
              " ('played', 'with', 'the'): 1,\n",
              " ('with', 'the', 'toy'): 1}"
            ]
          },
          "metadata": {},
          "execution_count": 8
        }
      ]
    },
    {
      "cell_type": "markdown",
      "source": [
        "Probability of bigram"
      ],
      "metadata": {
        "id": "hMG6sUh8FzCs"
      }
    },
    {
      "cell_type": "code",
      "source": [
        "proba ={}\n",
        "for i in trigrams:\n",
        "    word1=i[0]\n",
        "    word2=i[1]\n",
        "    proba[i] = (trigram_count.get(i)/bigram_count.get((word1, word2)))\n",
        "(proba)"
      ],
      "metadata": {
        "colab": {
          "base_uri": "https://localhost:8080/"
        },
        "id": "MVVJF2nF2G6g",
        "outputId": "6c78acd3-b1c3-41e5-f718-42d7a8b85d70"
      },
      "execution_count": null,
      "outputs": [
        {
          "output_type": "execute_result",
          "data": {
            "text/plain": [
              "{('the', 'girl', 'bought'): 0.6666666666666666,\n",
              " ('girl', 'bought', 'a'): 1.0,\n",
              " ('bought', 'a', 'chocolate'): 0.5,\n",
              " ('a', 'chocolate', 'the'): 1.0,\n",
              " ('chocolate', 'the', 'boy'): 0.5,\n",
              " ('the', 'boy', 'ate'): 1.0,\n",
              " ('boy', 'ate', 'the'): 1.0,\n",
              " ('ate', 'the', 'chocolate'): 1.0,\n",
              " ('the', 'chocolate', 'the'): 1.0,\n",
              " ('chocolate', 'the', 'girl'): 0.5,\n",
              " ('bought', 'a', 'toy'): 0.5,\n",
              " ('a', 'toy', 'the'): 1.0,\n",
              " ('toy', 'the', 'girl'): 1.0,\n",
              " ('the', 'girl', 'played'): 0.3333333333333333,\n",
              " ('girl', 'played', 'with'): 1.0,\n",
              " ('played', 'with', 'the'): 1.0,\n",
              " ('with', 'the', 'toy'): 1.0}"
            ]
          },
          "metadata": {},
          "execution_count": 96
        }
      ]
    },
    {
      "cell_type": "markdown",
      "source": [
        "Predciting the next word in the given sentence"
      ],
      "metadata": {
        "id": "RrY2z7e_F7RF"
      }
    },
    {
      "cell_type": "code",
      "source": [
        "proba={}\n",
        "def calculate_proba(bigrams, unigram_count, bigram_count):\n",
        "\n",
        "  for i in bigrams:\n",
        "    word1=i[0]\n",
        "    word2 =i[1]\n",
        "    proba[i]=round((bigram_count.get(i))/unigram_count.get(word1),2)\n",
        "  return proba\n",
        "\n",
        "\n",
        "calculate_proba(bigrams, unigram_count, bigram_count)"
      ],
      "metadata": {
        "colab": {
          "base_uri": "https://localhost:8080/"
        },
        "id": "6a39ReLyrsFz",
        "outputId": "5ed94b4b-95f4-4fe2-8a13-7f9860778c2f"
      },
      "execution_count": null,
      "outputs": [
        {
          "output_type": "execute_result",
          "data": {
            "text/plain": [
              "{('the', 'girl'): 0.5,\n",
              " ('girl', 'bought'): 0.67,\n",
              " ('bought', 'a'): 1.0,\n",
              " ('a', 'chocolate'): 0.5,\n",
              " ('chocolate', 'the'): 1.0,\n",
              " ('the', 'boy'): 0.17,\n",
              " ('boy', 'ate'): 1.0,\n",
              " ('ate', 'the'): 1.0,\n",
              " ('the', 'chocolate'): 0.17,\n",
              " ('a', 'toy'): 0.5,\n",
              " ('toy', 'the'): 0.5,\n",
              " ('girl', 'played'): 0.33,\n",
              " ('played', 'with'): 1.0,\n",
              " ('with', 'the'): 1.0,\n",
              " ('the', 'toy'): 0.17}"
            ]
          },
          "metadata": {},
          "execution_count": 10
        }
      ]
    },
    {
      "cell_type": "markdown",
      "source": [
        "# Conclusion\n",
        "The given string is preprocessed by converting the sequences to lower case and by the removal of punctuations, contractions and are converted to tokens. To predict the next word in the sentence of a bigram, we need to find the bigram count as well as unigram count, that is, the probability of bigram count given the unigram. Therefore, in our sentence, the probabilty of the word \"bought\" appearing after \"the girl\"is 100%."
      ],
      "metadata": {
        "id": "PnhuNcuSF_pi"
      }
    },
    {
      "cell_type": "code",
      "source": [
        "class ngrams:\n",
        "  def __init__(self, text):\n",
        "    txt1 =contractions.fix(text)\n",
        "    txt1 = txt1.lower()\n",
        "    tokens1 =word_tokenize(txt1)\n",
        "    processed_tokens = []\n",
        "    for i in tokens1:\n",
        "      if i not in string.punctuation:\n",
        "        processed_tokens.append(i)\n",
        "    return processed_tokens\n",
        "\n",
        "   def n_gram():\n",
        ""
      ],
      "metadata": {
        "id": "roJD5S9qFQNV"
      },
      "execution_count": null,
      "outputs": []
    }
  ],
  "metadata": {
    "colab": {
      "provenance": []
    },
    "kernelspec": {
      "display_name": "Python 3",
      "name": "python3"
    },
    "language_info": {
      "name": "python"
    }
  },
  "nbformat": 4,
  "nbformat_minor": 0
}