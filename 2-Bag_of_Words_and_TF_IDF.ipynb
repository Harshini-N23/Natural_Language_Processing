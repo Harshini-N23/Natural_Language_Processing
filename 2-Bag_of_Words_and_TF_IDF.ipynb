{
  "cells": [
    {
      "cell_type": "markdown",
      "source": [
        "\n",
        "## Program to Implement TF_IDF and Bag of Words(BoW)\n",
        "\n",
        "## Aim: To convert the given sequence of texts to vectors\n",
        "\n",
        "\n",
        "## Objective: To convert the given texts to vectors so that the machine can understand the context and we can efficiently build Deep learning and Machine Learning Models"
      ],
      "metadata": {
        "id": "upzM7lho-c1r"
      }
    },
    {
      "cell_type": "markdown",
      "source": [
        "Importing the required libraries"
      ],
      "metadata": {
        "id": "2qGUY7fkCLll"
      }
    },
    {
      "cell_type": "code",
      "execution_count": null,
      "metadata": {
        "id": "4ZWaq8onDAeP",
        "colab": {
          "base_uri": "https://localhost:8080/"
        },
        "outputId": "c21161aa-0d9b-4a97-8ff5-8b90d39ab559"
      },
      "outputs": [
        {
          "output_type": "stream",
          "name": "stderr",
          "text": [
            "[nltk_data] Downloading package punkt to /root/nltk_data...\n",
            "[nltk_data]   Unzipping tokenizers/punkt.zip.\n",
            "[nltk_data] Downloading package stopwords to /root/nltk_data...\n",
            "[nltk_data]   Unzipping corpora/stopwords.zip.\n"
          ]
        }
      ],
      "source": [
        "import pandas as pd\n",
        "from nltk.tokenize import word_tokenize\n",
        "from nltk.corpus import stopwords\n",
        "from sklearn.feature_extraction.text import CountVectorizer\n",
        "import nltk\n",
        "nltk.download('punkt')\n",
        "import string\n",
        "nltk.download(\"stopwords\")\n",
        "from nltk.corpus import stopwords\n",
        "english_stopwords = stopwords.words(\"english\")\n",
        "import warnings\n",
        "warnings.filterwarnings(\"ignore\")"
      ]
    },
    {
      "cell_type": "markdown",
      "source": [
        "Corpus"
      ],
      "metadata": {
        "id": "AbVfRB-_COpg"
      }
    },
    {
      "cell_type": "code",
      "source": [
        "doc1  = \"It was the best of times\"\n",
        "doc2 = \"It was the worst of times\"\n",
        "doc3 = \"It was the age of wisdom\"\n",
        "doc4 = \"It was the age of foolishness\"\n",
        "document =[doc1,doc2,doc3,doc4]"
      ],
      "metadata": {
        "id": "E1nrzSw_aXoT"
      },
      "execution_count": null,
      "outputs": []
    },
    {
      "cell_type": "markdown",
      "source": [
        "Tokenization"
      ],
      "metadata": {
        "id": "WqoerjMSCQ-Q"
      }
    },
    {
      "cell_type": "code",
      "source": [
        "tokens = []\n",
        "word_set = []\n",
        "\n",
        "for sent in document:\n",
        "    #x = [i.lower() for  i in word_tokenize(sent) if i.isalpha()]\n",
        "  for i in word_tokenize(sent):\n",
        "    if i.isalpha():\n",
        "      x = i.lower()\n",
        "\n",
        "      tokens.append(x)\n",
        "for word in tokens:\n",
        "    if word not in word_set:\n",
        "        word_set.append(word)"
      ],
      "metadata": {
        "id": "CCiRHMs6syaH"
      },
      "execution_count": null,
      "outputs": []
    },
    {
      "cell_type": "code",
      "source": [
        "print(tokens)\n",
        "print(word_set)\n"
      ],
      "metadata": {
        "colab": {
          "base_uri": "https://localhost:8080/"
        },
        "id": "rAdGGxYGttnh",
        "outputId": "9ed55cf8-cfcd-4c61-dc1e-06c95a9452f7"
      },
      "execution_count": null,
      "outputs": [
        {
          "output_type": "stream",
          "name": "stdout",
          "text": [
            "['it', 'was', 'the', 'best', 'of', 'times', 'it', 'was', 'the', 'worst', 'of', 'times', 'it', 'was', 'the', 'age', 'of', 'wisdom', 'it', 'was', 'the', 'age', 'of', 'foolishness']\n",
            "['it', 'was', 'the', 'best', 'of', 'times', 'worst', 'age', 'wisdom', 'foolishness']\n"
          ]
        }
      ]
    },
    {
      "cell_type": "markdown",
      "source": [
        "Implementing Bag of Words"
      ],
      "metadata": {
        "id": "MmrgCFM3CSvi"
      }
    },
    {
      "cell_type": "code",
      "source": [
        "vectorizer =CountVectorizer()\n",
        "vector = vectorizer.fit_transform(document)\n",
        "\n"
      ],
      "metadata": {
        "id": "L2zDM1-Ttwj9"
      },
      "execution_count": null,
      "outputs": []
    },
    {
      "cell_type": "code",
      "source": [
        "print(\"Bag of words\")\n",
        "CountVec = CountVectorizer(ngram_range=(1,1),stop_words='english')\n",
        "cv_dataframe=pd.DataFrame(vector.toarray())\n",
        "cv_dataframe.columns =sorted(word_set)\n",
        "cv_dataframe.index = [doc1, doc2, doc3, doc4]\n",
        "(cv_dataframe)"
      ],
      "metadata": {
        "colab": {
          "base_uri": "https://localhost:8080/",
          "height": 192
        },
        "id": "rezu5kskuYSL",
        "outputId": "f811aa15-a797-4d5d-8186-95721a1e04af"
      },
      "execution_count": null,
      "outputs": [
        {
          "output_type": "stream",
          "name": "stdout",
          "text": [
            "Bag of words\n"
          ]
        },
        {
          "output_type": "execute_result",
          "data": {
            "text/plain": [
              "                               age  best  foolishness  it  of  the  times  \\\n",
              "It was the best of times         0     1            0   1   1    1      1   \n",
              "It was the worst of times        0     0            0   1   1    1      1   \n",
              "It was the age of wisdom         1     0            0   1   1    1      0   \n",
              "It was the age of foolishness    1     0            1   1   1    1      0   \n",
              "\n",
              "                               was  wisdom  worst  \n",
              "It was the best of times         1       0      0  \n",
              "It was the worst of times        1       0      1  \n",
              "It was the age of wisdom         1       1      0  \n",
              "It was the age of foolishness    1       0      0  "
            ],
            "text/html": [
              "\n",
              "  <div id=\"df-6eb743ab-a237-4c1f-b1bd-f84d99632525\">\n",
              "    <div class=\"colab-df-container\">\n",
              "      <div>\n",
              "<style scoped>\n",
              "    .dataframe tbody tr th:only-of-type {\n",
              "        vertical-align: middle;\n",
              "    }\n",
              "\n",
              "    .dataframe tbody tr th {\n",
              "        vertical-align: top;\n",
              "    }\n",
              "\n",
              "    .dataframe thead th {\n",
              "        text-align: right;\n",
              "    }\n",
              "</style>\n",
              "<table border=\"1\" class=\"dataframe\">\n",
              "  <thead>\n",
              "    <tr style=\"text-align: right;\">\n",
              "      <th></th>\n",
              "      <th>age</th>\n",
              "      <th>best</th>\n",
              "      <th>foolishness</th>\n",
              "      <th>it</th>\n",
              "      <th>of</th>\n",
              "      <th>the</th>\n",
              "      <th>times</th>\n",
              "      <th>was</th>\n",
              "      <th>wisdom</th>\n",
              "      <th>worst</th>\n",
              "    </tr>\n",
              "  </thead>\n",
              "  <tbody>\n",
              "    <tr>\n",
              "      <th>It was the best of times</th>\n",
              "      <td>0</td>\n",
              "      <td>1</td>\n",
              "      <td>0</td>\n",
              "      <td>1</td>\n",
              "      <td>1</td>\n",
              "      <td>1</td>\n",
              "      <td>1</td>\n",
              "      <td>1</td>\n",
              "      <td>0</td>\n",
              "      <td>0</td>\n",
              "    </tr>\n",
              "    <tr>\n",
              "      <th>It was the worst of times</th>\n",
              "      <td>0</td>\n",
              "      <td>0</td>\n",
              "      <td>0</td>\n",
              "      <td>1</td>\n",
              "      <td>1</td>\n",
              "      <td>1</td>\n",
              "      <td>1</td>\n",
              "      <td>1</td>\n",
              "      <td>0</td>\n",
              "      <td>1</td>\n",
              "    </tr>\n",
              "    <tr>\n",
              "      <th>It was the age of wisdom</th>\n",
              "      <td>1</td>\n",
              "      <td>0</td>\n",
              "      <td>0</td>\n",
              "      <td>1</td>\n",
              "      <td>1</td>\n",
              "      <td>1</td>\n",
              "      <td>0</td>\n",
              "      <td>1</td>\n",
              "      <td>1</td>\n",
              "      <td>0</td>\n",
              "    </tr>\n",
              "    <tr>\n",
              "      <th>It was the age of foolishness</th>\n",
              "      <td>1</td>\n",
              "      <td>0</td>\n",
              "      <td>1</td>\n",
              "      <td>1</td>\n",
              "      <td>1</td>\n",
              "      <td>1</td>\n",
              "      <td>0</td>\n",
              "      <td>1</td>\n",
              "      <td>0</td>\n",
              "      <td>0</td>\n",
              "    </tr>\n",
              "  </tbody>\n",
              "</table>\n",
              "</div>\n",
              "      <button class=\"colab-df-convert\" onclick=\"convertToInteractive('df-6eb743ab-a237-4c1f-b1bd-f84d99632525')\"\n",
              "              title=\"Convert this dataframe to an interactive table.\"\n",
              "              style=\"display:none;\">\n",
              "        \n",
              "  <svg xmlns=\"http://www.w3.org/2000/svg\" height=\"24px\"viewBox=\"0 0 24 24\"\n",
              "       width=\"24px\">\n",
              "    <path d=\"M0 0h24v24H0V0z\" fill=\"none\"/>\n",
              "    <path d=\"M18.56 5.44l.94 2.06.94-2.06 2.06-.94-2.06-.94-.94-2.06-.94 2.06-2.06.94zm-11 1L8.5 8.5l.94-2.06 2.06-.94-2.06-.94L8.5 2.5l-.94 2.06-2.06.94zm10 10l.94 2.06.94-2.06 2.06-.94-2.06-.94-.94-2.06-.94 2.06-2.06.94z\"/><path d=\"M17.41 7.96l-1.37-1.37c-.4-.4-.92-.59-1.43-.59-.52 0-1.04.2-1.43.59L10.3 9.45l-7.72 7.72c-.78.78-.78 2.05 0 2.83L4 21.41c.39.39.9.59 1.41.59.51 0 1.02-.2 1.41-.59l7.78-7.78 2.81-2.81c.8-.78.8-2.07 0-2.86zM5.41 20L4 18.59l7.72-7.72 1.47 1.35L5.41 20z\"/>\n",
              "  </svg>\n",
              "      </button>\n",
              "      \n",
              "  <style>\n",
              "    .colab-df-container {\n",
              "      display:flex;\n",
              "      flex-wrap:wrap;\n",
              "      gap: 12px;\n",
              "    }\n",
              "\n",
              "    .colab-df-convert {\n",
              "      background-color: #E8F0FE;\n",
              "      border: none;\n",
              "      border-radius: 50%;\n",
              "      cursor: pointer;\n",
              "      display: none;\n",
              "      fill: #1967D2;\n",
              "      height: 32px;\n",
              "      padding: 0 0 0 0;\n",
              "      width: 32px;\n",
              "    }\n",
              "\n",
              "    .colab-df-convert:hover {\n",
              "      background-color: #E2EBFA;\n",
              "      box-shadow: 0px 1px 2px rgba(60, 64, 67, 0.3), 0px 1px 3px 1px rgba(60, 64, 67, 0.15);\n",
              "      fill: #174EA6;\n",
              "    }\n",
              "\n",
              "    [theme=dark] .colab-df-convert {\n",
              "      background-color: #3B4455;\n",
              "      fill: #D2E3FC;\n",
              "    }\n",
              "\n",
              "    [theme=dark] .colab-df-convert:hover {\n",
              "      background-color: #434B5C;\n",
              "      box-shadow: 0px 1px 3px 1px rgba(0, 0, 0, 0.15);\n",
              "      filter: drop-shadow(0px 1px 2px rgba(0, 0, 0, 0.3));\n",
              "      fill: #FFFFFF;\n",
              "    }\n",
              "  </style>\n",
              "\n",
              "      <script>\n",
              "        const buttonEl =\n",
              "          document.querySelector('#df-6eb743ab-a237-4c1f-b1bd-f84d99632525 button.colab-df-convert');\n",
              "        buttonEl.style.display =\n",
              "          google.colab.kernel.accessAllowed ? 'block' : 'none';\n",
              "\n",
              "        async function convertToInteractive(key) {\n",
              "          const element = document.querySelector('#df-6eb743ab-a237-4c1f-b1bd-f84d99632525');\n",
              "          const dataTable =\n",
              "            await google.colab.kernel.invokeFunction('convertToInteractive',\n",
              "                                                     [key], {});\n",
              "          if (!dataTable) return;\n",
              "\n",
              "          const docLinkHtml = 'Like what you see? Visit the ' +\n",
              "            '<a target=\"_blank\" href=https://colab.research.google.com/notebooks/data_table.ipynb>data table notebook</a>'\n",
              "            + ' to learn more about interactive tables.';\n",
              "          element.innerHTML = '';\n",
              "          dataTable['output_type'] = 'display_data';\n",
              "          await google.colab.output.renderOutput(dataTable, element);\n",
              "          const docLink = document.createElement('div');\n",
              "          docLink.innerHTML = docLinkHtml;\n",
              "          element.appendChild(docLink);\n",
              "        }\n",
              "      </script>\n",
              "    </div>\n",
              "  </div>\n",
              "  "
            ]
          },
          "metadata": {},
          "execution_count": 7
        }
      ]
    },
    {
      "cell_type": "markdown",
      "source": [
        "Storing the index of each word in dictionary"
      ],
      "metadata": {
        "id": "y9adNHq5Cbxg"
      }
    },
    {
      "cell_type": "code",
      "source": [
        "index_dict = {} #Dictionary to store index for each word\n",
        "i = 0\n",
        "for word in word_set:\n",
        "    index_dict[word] = i\n",
        "    i += 1\n",
        "index_dict"
      ],
      "metadata": {
        "colab": {
          "base_uri": "https://localhost:8080/"
        },
        "id": "nOfzHEf-uea8",
        "outputId": "8199f6fd-b098-4fe8-d0e0-647f34ab5ded"
      },
      "execution_count": null,
      "outputs": [
        {
          "output_type": "execute_result",
          "data": {
            "text/plain": [
              "{'it': 0,\n",
              " 'was': 1,\n",
              " 'the': 2,\n",
              " 'best': 3,\n",
              " 'of': 4,\n",
              " 'times': 5,\n",
              " 'worst': 6,\n",
              " 'age': 7,\n",
              " 'wisdom': 8,\n",
              " 'foolishness': 9}"
            ]
          },
          "metadata": {},
          "execution_count": 8
        }
      ]
    },
    {
      "cell_type": "code",
      "source": [
        "def count_dict(sentences):\n",
        "    word_count = {}\n",
        "    for word in word_set:\n",
        "        word_count[word] = 0\n",
        "        for sent in sentences:\n",
        "            if word in sent:\n",
        "                word_count[word] += 1\n",
        "    return word_count\n",
        "\n",
        "word_count = count_dict(tokens)\n",
        "print(word_count)"
      ],
      "metadata": {
        "colab": {
          "base_uri": "https://localhost:8080/"
        },
        "id": "k30gWAvQu5kS",
        "outputId": "97c0e82c-a53b-4420-b11e-4d597525fe78"
      },
      "execution_count": null,
      "outputs": [
        {
          "output_type": "stream",
          "name": "stdout",
          "text": [
            "{'it': 4, 'was': 4, 'the': 4, 'best': 1, 'of': 4, 'times': 2, 'worst': 1, 'age': 2, 'wisdom': 1, 'foolishness': 1}\n"
          ]
        }
      ]
    },
    {
      "cell_type": "markdown",
      "source": [
        "Implementing the TF_IDF"
      ],
      "metadata": {
        "id": "07PDnvmPChOW"
      }
    },
    {
      "cell_type": "code",
      "source": [
        "print(\"Term Frequency\")\n",
        "import numpy as np\n",
        "corpus = [\"it was the best of times\", \"it was the worst of times\",\"it was the age of wisdom\", \"it was the age of foolishness\"]\n",
        "total_documents = len(document)\n",
        "no_words_set = len(word_set)\n",
        "\n",
        "df_tf = pd.DataFrame(np.zeros((total_documents, no_words_set)), columns=word_set)\n",
        "\n",
        "# Compute Term Frequency (TF)\n",
        "for i in range(total_documents):\n",
        "    words =corpus[i].split(' ') # Words in the document\n",
        "    for w in words:\n",
        "        df_tf[w][i] = df_tf[w][i] + (1 / len(words))\n",
        "df_tf"
      ],
      "metadata": {
        "colab": {
          "base_uri": "https://localhost:8080/",
          "height": 192
        },
        "id": "Vs2nW5Ewx4xO",
        "outputId": "f16558db-416e-4826-fa02-3dd1a1bc3acc"
      },
      "execution_count": null,
      "outputs": [
        {
          "output_type": "stream",
          "name": "stdout",
          "text": [
            "Term Frequency\n"
          ]
        },
        {
          "output_type": "execute_result",
          "data": {
            "text/plain": [
              "         it       was       the      best        of     times     worst  \\\n",
              "0  0.166667  0.166667  0.166667  0.166667  0.166667  0.166667  0.000000   \n",
              "1  0.166667  0.166667  0.166667  0.000000  0.166667  0.166667  0.166667   \n",
              "2  0.166667  0.166667  0.166667  0.000000  0.166667  0.000000  0.000000   \n",
              "3  0.166667  0.166667  0.166667  0.000000  0.166667  0.000000  0.000000   \n",
              "\n",
              "        age    wisdom  foolishness  \n",
              "0  0.000000  0.000000     0.000000  \n",
              "1  0.000000  0.000000     0.000000  \n",
              "2  0.166667  0.166667     0.000000  \n",
              "3  0.166667  0.000000     0.166667  "
            ],
            "text/html": [
              "\n",
              "  <div id=\"df-92b3276a-3df8-488e-b39a-02ea8385c552\">\n",
              "    <div class=\"colab-df-container\">\n",
              "      <div>\n",
              "<style scoped>\n",
              "    .dataframe tbody tr th:only-of-type {\n",
              "        vertical-align: middle;\n",
              "    }\n",
              "\n",
              "    .dataframe tbody tr th {\n",
              "        vertical-align: top;\n",
              "    }\n",
              "\n",
              "    .dataframe thead th {\n",
              "        text-align: right;\n",
              "    }\n",
              "</style>\n",
              "<table border=\"1\" class=\"dataframe\">\n",
              "  <thead>\n",
              "    <tr style=\"text-align: right;\">\n",
              "      <th></th>\n",
              "      <th>it</th>\n",
              "      <th>was</th>\n",
              "      <th>the</th>\n",
              "      <th>best</th>\n",
              "      <th>of</th>\n",
              "      <th>times</th>\n",
              "      <th>worst</th>\n",
              "      <th>age</th>\n",
              "      <th>wisdom</th>\n",
              "      <th>foolishness</th>\n",
              "    </tr>\n",
              "  </thead>\n",
              "  <tbody>\n",
              "    <tr>\n",
              "      <th>0</th>\n",
              "      <td>0.166667</td>\n",
              "      <td>0.166667</td>\n",
              "      <td>0.166667</td>\n",
              "      <td>0.166667</td>\n",
              "      <td>0.166667</td>\n",
              "      <td>0.166667</td>\n",
              "      <td>0.000000</td>\n",
              "      <td>0.000000</td>\n",
              "      <td>0.000000</td>\n",
              "      <td>0.000000</td>\n",
              "    </tr>\n",
              "    <tr>\n",
              "      <th>1</th>\n",
              "      <td>0.166667</td>\n",
              "      <td>0.166667</td>\n",
              "      <td>0.166667</td>\n",
              "      <td>0.000000</td>\n",
              "      <td>0.166667</td>\n",
              "      <td>0.166667</td>\n",
              "      <td>0.166667</td>\n",
              "      <td>0.000000</td>\n",
              "      <td>0.000000</td>\n",
              "      <td>0.000000</td>\n",
              "    </tr>\n",
              "    <tr>\n",
              "      <th>2</th>\n",
              "      <td>0.166667</td>\n",
              "      <td>0.166667</td>\n",
              "      <td>0.166667</td>\n",
              "      <td>0.000000</td>\n",
              "      <td>0.166667</td>\n",
              "      <td>0.000000</td>\n",
              "      <td>0.000000</td>\n",
              "      <td>0.166667</td>\n",
              "      <td>0.166667</td>\n",
              "      <td>0.000000</td>\n",
              "    </tr>\n",
              "    <tr>\n",
              "      <th>3</th>\n",
              "      <td>0.166667</td>\n",
              "      <td>0.166667</td>\n",
              "      <td>0.166667</td>\n",
              "      <td>0.000000</td>\n",
              "      <td>0.166667</td>\n",
              "      <td>0.000000</td>\n",
              "      <td>0.000000</td>\n",
              "      <td>0.166667</td>\n",
              "      <td>0.000000</td>\n",
              "      <td>0.166667</td>\n",
              "    </tr>\n",
              "  </tbody>\n",
              "</table>\n",
              "</div>\n",
              "      <button class=\"colab-df-convert\" onclick=\"convertToInteractive('df-92b3276a-3df8-488e-b39a-02ea8385c552')\"\n",
              "              title=\"Convert this dataframe to an interactive table.\"\n",
              "              style=\"display:none;\">\n",
              "        \n",
              "  <svg xmlns=\"http://www.w3.org/2000/svg\" height=\"24px\"viewBox=\"0 0 24 24\"\n",
              "       width=\"24px\">\n",
              "    <path d=\"M0 0h24v24H0V0z\" fill=\"none\"/>\n",
              "    <path d=\"M18.56 5.44l.94 2.06.94-2.06 2.06-.94-2.06-.94-.94-2.06-.94 2.06-2.06.94zm-11 1L8.5 8.5l.94-2.06 2.06-.94-2.06-.94L8.5 2.5l-.94 2.06-2.06.94zm10 10l.94 2.06.94-2.06 2.06-.94-2.06-.94-.94-2.06-.94 2.06-2.06.94z\"/><path d=\"M17.41 7.96l-1.37-1.37c-.4-.4-.92-.59-1.43-.59-.52 0-1.04.2-1.43.59L10.3 9.45l-7.72 7.72c-.78.78-.78 2.05 0 2.83L4 21.41c.39.39.9.59 1.41.59.51 0 1.02-.2 1.41-.59l7.78-7.78 2.81-2.81c.8-.78.8-2.07 0-2.86zM5.41 20L4 18.59l7.72-7.72 1.47 1.35L5.41 20z\"/>\n",
              "  </svg>\n",
              "      </button>\n",
              "      \n",
              "  <style>\n",
              "    .colab-df-container {\n",
              "      display:flex;\n",
              "      flex-wrap:wrap;\n",
              "      gap: 12px;\n",
              "    }\n",
              "\n",
              "    .colab-df-convert {\n",
              "      background-color: #E8F0FE;\n",
              "      border: none;\n",
              "      border-radius: 50%;\n",
              "      cursor: pointer;\n",
              "      display: none;\n",
              "      fill: #1967D2;\n",
              "      height: 32px;\n",
              "      padding: 0 0 0 0;\n",
              "      width: 32px;\n",
              "    }\n",
              "\n",
              "    .colab-df-convert:hover {\n",
              "      background-color: #E2EBFA;\n",
              "      box-shadow: 0px 1px 2px rgba(60, 64, 67, 0.3), 0px 1px 3px 1px rgba(60, 64, 67, 0.15);\n",
              "      fill: #174EA6;\n",
              "    }\n",
              "\n",
              "    [theme=dark] .colab-df-convert {\n",
              "      background-color: #3B4455;\n",
              "      fill: #D2E3FC;\n",
              "    }\n",
              "\n",
              "    [theme=dark] .colab-df-convert:hover {\n",
              "      background-color: #434B5C;\n",
              "      box-shadow: 0px 1px 3px 1px rgba(0, 0, 0, 0.15);\n",
              "      filter: drop-shadow(0px 1px 2px rgba(0, 0, 0, 0.3));\n",
              "      fill: #FFFFFF;\n",
              "    }\n",
              "  </style>\n",
              "\n",
              "      <script>\n",
              "        const buttonEl =\n",
              "          document.querySelector('#df-92b3276a-3df8-488e-b39a-02ea8385c552 button.colab-df-convert');\n",
              "        buttonEl.style.display =\n",
              "          google.colab.kernel.accessAllowed ? 'block' : 'none';\n",
              "\n",
              "        async function convertToInteractive(key) {\n",
              "          const element = document.querySelector('#df-92b3276a-3df8-488e-b39a-02ea8385c552');\n",
              "          const dataTable =\n",
              "            await google.colab.kernel.invokeFunction('convertToInteractive',\n",
              "                                                     [key], {});\n",
              "          if (!dataTable) return;\n",
              "\n",
              "          const docLinkHtml = 'Like what you see? Visit the ' +\n",
              "            '<a target=\"_blank\" href=https://colab.research.google.com/notebooks/data_table.ipynb>data table notebook</a>'\n",
              "            + ' to learn more about interactive tables.';\n",
              "          element.innerHTML = '';\n",
              "          dataTable['output_type'] = 'display_data';\n",
              "          await google.colab.output.renderOutput(dataTable, element);\n",
              "          const docLink = document.createElement('div');\n",
              "          docLink.innerHTML = docLinkHtml;\n",
              "          element.appendChild(docLink);\n",
              "        }\n",
              "      </script>\n",
              "    </div>\n",
              "  </div>\n",
              "  "
            ]
          },
          "metadata": {},
          "execution_count": 10
        }
      ]
    },
    {
      "cell_type": "code",
      "source": [
        "print(\"IDF of: \")\n",
        "idf = {}\n",
        "for w in word_set:\n",
        "    k = 0\n",
        "    for i in range(total_documents):\n",
        "        if w in corpus[i].split():\n",
        "            k += 1\n",
        "    idf[w] =  np.log10(total_documents / k)\n",
        "    print(f'{w}: {idf[w]}')"
      ],
      "metadata": {
        "colab": {
          "base_uri": "https://localhost:8080/"
        },
        "id": "0Tj_rldF7Z6v",
        "outputId": "4a1bd2f3-8f25-4de8-e9d9-4b00c89582f6"
      },
      "execution_count": null,
      "outputs": [
        {
          "output_type": "stream",
          "name": "stdout",
          "text": [
            "IDF of: \n",
            "it: 0.0\n",
            "was: 0.0\n",
            "the: 0.0\n",
            "best: 0.6020599913279624\n",
            "of: 0.0\n",
            "times: 0.3010299956639812\n",
            "worst: 0.6020599913279624\n",
            "age: 0.3010299956639812\n",
            "wisdom: 0.6020599913279624\n",
            "foolishness: 0.6020599913279624\n"
          ]
        }
      ]
    },
    {
      "cell_type": "code",
      "source": [
        "print(\"TF-IDF\")\n",
        "df_tf_idf = df_tf.copy()\n",
        "for w in word_set:\n",
        "    for i in range(total_documents):\n",
        "        df_tf_idf[w][i] = df_tf[w][i] * idf[w]\n",
        "\n",
        "df_tf_idf"
      ],
      "metadata": {
        "colab": {
          "base_uri": "https://localhost:8080/",
          "height": 192
        },
        "id": "cDEa78og8OTe",
        "outputId": "073d362e-0064-4964-8477-424be34d3edd"
      },
      "execution_count": null,
      "outputs": [
        {
          "output_type": "stream",
          "name": "stdout",
          "text": [
            "TF-IDF\n"
          ]
        },
        {
          "output_type": "execute_result",
          "data": {
            "text/plain": [
              "    it  was  the      best   of     times     worst       age    wisdom  \\\n",
              "0  0.0  0.0  0.0  0.100343  0.0  0.050172  0.000000  0.000000  0.000000   \n",
              "1  0.0  0.0  0.0  0.000000  0.0  0.050172  0.100343  0.000000  0.000000   \n",
              "2  0.0  0.0  0.0  0.000000  0.0  0.000000  0.000000  0.050172  0.100343   \n",
              "3  0.0  0.0  0.0  0.000000  0.0  0.000000  0.000000  0.050172  0.000000   \n",
              "\n",
              "   foolishness  \n",
              "0     0.000000  \n",
              "1     0.000000  \n",
              "2     0.000000  \n",
              "3     0.100343  "
            ],
            "text/html": [
              "\n",
              "  <div id=\"df-7d713b19-098b-47a1-9c4b-06c24d3901e1\">\n",
              "    <div class=\"colab-df-container\">\n",
              "      <div>\n",
              "<style scoped>\n",
              "    .dataframe tbody tr th:only-of-type {\n",
              "        vertical-align: middle;\n",
              "    }\n",
              "\n",
              "    .dataframe tbody tr th {\n",
              "        vertical-align: top;\n",
              "    }\n",
              "\n",
              "    .dataframe thead th {\n",
              "        text-align: right;\n",
              "    }\n",
              "</style>\n",
              "<table border=\"1\" class=\"dataframe\">\n",
              "  <thead>\n",
              "    <tr style=\"text-align: right;\">\n",
              "      <th></th>\n",
              "      <th>it</th>\n",
              "      <th>was</th>\n",
              "      <th>the</th>\n",
              "      <th>best</th>\n",
              "      <th>of</th>\n",
              "      <th>times</th>\n",
              "      <th>worst</th>\n",
              "      <th>age</th>\n",
              "      <th>wisdom</th>\n",
              "      <th>foolishness</th>\n",
              "    </tr>\n",
              "  </thead>\n",
              "  <tbody>\n",
              "    <tr>\n",
              "      <th>0</th>\n",
              "      <td>0.0</td>\n",
              "      <td>0.0</td>\n",
              "      <td>0.0</td>\n",
              "      <td>0.100343</td>\n",
              "      <td>0.0</td>\n",
              "      <td>0.050172</td>\n",
              "      <td>0.000000</td>\n",
              "      <td>0.000000</td>\n",
              "      <td>0.000000</td>\n",
              "      <td>0.000000</td>\n",
              "    </tr>\n",
              "    <tr>\n",
              "      <th>1</th>\n",
              "      <td>0.0</td>\n",
              "      <td>0.0</td>\n",
              "      <td>0.0</td>\n",
              "      <td>0.000000</td>\n",
              "      <td>0.0</td>\n",
              "      <td>0.050172</td>\n",
              "      <td>0.100343</td>\n",
              "      <td>0.000000</td>\n",
              "      <td>0.000000</td>\n",
              "      <td>0.000000</td>\n",
              "    </tr>\n",
              "    <tr>\n",
              "      <th>2</th>\n",
              "      <td>0.0</td>\n",
              "      <td>0.0</td>\n",
              "      <td>0.0</td>\n",
              "      <td>0.000000</td>\n",
              "      <td>0.0</td>\n",
              "      <td>0.000000</td>\n",
              "      <td>0.000000</td>\n",
              "      <td>0.050172</td>\n",
              "      <td>0.100343</td>\n",
              "      <td>0.000000</td>\n",
              "    </tr>\n",
              "    <tr>\n",
              "      <th>3</th>\n",
              "      <td>0.0</td>\n",
              "      <td>0.0</td>\n",
              "      <td>0.0</td>\n",
              "      <td>0.000000</td>\n",
              "      <td>0.0</td>\n",
              "      <td>0.000000</td>\n",
              "      <td>0.000000</td>\n",
              "      <td>0.050172</td>\n",
              "      <td>0.000000</td>\n",
              "      <td>0.100343</td>\n",
              "    </tr>\n",
              "  </tbody>\n",
              "</table>\n",
              "</div>\n",
              "      <button class=\"colab-df-convert\" onclick=\"convertToInteractive('df-7d713b19-098b-47a1-9c4b-06c24d3901e1')\"\n",
              "              title=\"Convert this dataframe to an interactive table.\"\n",
              "              style=\"display:none;\">\n",
              "        \n",
              "  <svg xmlns=\"http://www.w3.org/2000/svg\" height=\"24px\"viewBox=\"0 0 24 24\"\n",
              "       width=\"24px\">\n",
              "    <path d=\"M0 0h24v24H0V0z\" fill=\"none\"/>\n",
              "    <path d=\"M18.56 5.44l.94 2.06.94-2.06 2.06-.94-2.06-.94-.94-2.06-.94 2.06-2.06.94zm-11 1L8.5 8.5l.94-2.06 2.06-.94-2.06-.94L8.5 2.5l-.94 2.06-2.06.94zm10 10l.94 2.06.94-2.06 2.06-.94-2.06-.94-.94-2.06-.94 2.06-2.06.94z\"/><path d=\"M17.41 7.96l-1.37-1.37c-.4-.4-.92-.59-1.43-.59-.52 0-1.04.2-1.43.59L10.3 9.45l-7.72 7.72c-.78.78-.78 2.05 0 2.83L4 21.41c.39.39.9.59 1.41.59.51 0 1.02-.2 1.41-.59l7.78-7.78 2.81-2.81c.8-.78.8-2.07 0-2.86zM5.41 20L4 18.59l7.72-7.72 1.47 1.35L5.41 20z\"/>\n",
              "  </svg>\n",
              "      </button>\n",
              "      \n",
              "  <style>\n",
              "    .colab-df-container {\n",
              "      display:flex;\n",
              "      flex-wrap:wrap;\n",
              "      gap: 12px;\n",
              "    }\n",
              "\n",
              "    .colab-df-convert {\n",
              "      background-color: #E8F0FE;\n",
              "      border: none;\n",
              "      border-radius: 50%;\n",
              "      cursor: pointer;\n",
              "      display: none;\n",
              "      fill: #1967D2;\n",
              "      height: 32px;\n",
              "      padding: 0 0 0 0;\n",
              "      width: 32px;\n",
              "    }\n",
              "\n",
              "    .colab-df-convert:hover {\n",
              "      background-color: #E2EBFA;\n",
              "      box-shadow: 0px 1px 2px rgba(60, 64, 67, 0.3), 0px 1px 3px 1px rgba(60, 64, 67, 0.15);\n",
              "      fill: #174EA6;\n",
              "    }\n",
              "\n",
              "    [theme=dark] .colab-df-convert {\n",
              "      background-color: #3B4455;\n",
              "      fill: #D2E3FC;\n",
              "    }\n",
              "\n",
              "    [theme=dark] .colab-df-convert:hover {\n",
              "      background-color: #434B5C;\n",
              "      box-shadow: 0px 1px 3px 1px rgba(0, 0, 0, 0.15);\n",
              "      filter: drop-shadow(0px 1px 2px rgba(0, 0, 0, 0.3));\n",
              "      fill: #FFFFFF;\n",
              "    }\n",
              "  </style>\n",
              "\n",
              "      <script>\n",
              "        const buttonEl =\n",
              "          document.querySelector('#df-7d713b19-098b-47a1-9c4b-06c24d3901e1 button.colab-df-convert');\n",
              "        buttonEl.style.display =\n",
              "          google.colab.kernel.accessAllowed ? 'block' : 'none';\n",
              "\n",
              "        async function convertToInteractive(key) {\n",
              "          const element = document.querySelector('#df-7d713b19-098b-47a1-9c4b-06c24d3901e1');\n",
              "          const dataTable =\n",
              "            await google.colab.kernel.invokeFunction('convertToInteractive',\n",
              "                                                     [key], {});\n",
              "          if (!dataTable) return;\n",
              "\n",
              "          const docLinkHtml = 'Like what you see? Visit the ' +\n",
              "            '<a target=\"_blank\" href=https://colab.research.google.com/notebooks/data_table.ipynb>data table notebook</a>'\n",
              "            + ' to learn more about interactive tables.';\n",
              "          element.innerHTML = '';\n",
              "          dataTable['output_type'] = 'display_data';\n",
              "          await google.colab.output.renderOutput(dataTable, element);\n",
              "          const docLink = document.createElement('div');\n",
              "          docLink.innerHTML = docLinkHtml;\n",
              "          element.appendChild(docLink);\n",
              "        }\n",
              "      </script>\n",
              "    </div>\n",
              "  </div>\n",
              "  "
            ]
          },
          "metadata": {},
          "execution_count": 12
        }
      ]
    },
    {
      "cell_type": "markdown",
      "source": [
        "Using the inbuilt Tfidvectorizer from sklearn"
      ],
      "metadata": {
        "id": "7dN4YobGCmn4"
      }
    },
    {
      "cell_type": "code",
      "source": [
        "from sklearn.feature_extraction.text import CountVectorizer, TfidfVectorizer\n",
        "\n",
        "#without smooth IDF\n",
        "print(\"Without Smoothing:\")\n",
        "#define tf-idf\n",
        "tf_idf_vec = TfidfVectorizer(use_idf=True,\n",
        "                        smooth_idf=False,\n",
        "                        ngram_range=(1,1),stop_words='english') # to use only  bigrams ngram_range=(2,2)\n",
        "#transform\n",
        "tf_idf_data = tf_idf_vec.fit_transform([doc1, doc2, doc3, doc4])\n",
        "\n",
        "#create dataframe\n",
        "tf_idf_dataframe=pd.DataFrame(tf_idf_data.toarray(),columns=tf_idf_vec.get_feature_names())\n",
        "print(tf_idf_dataframe)\n",
        "print(\"\\n\")\n",
        "\n",
        "#with smooth\n",
        "tf_idf_vec_smooth = TfidfVectorizer(use_idf=True,\n",
        "                        smooth_idf=True,\n",
        "                        ngram_range=(1,1),stop_words='english')\n",
        "\n",
        "\n",
        "tf_idf_data_smooth = tf_idf_vec_smooth.fit_transform([doc1, doc2, doc3, doc4])\n",
        "\n",
        "print(\"With Smoothing:\")\n",
        "tf_idf_dataframe_smooth=pd.DataFrame(tf_idf_data_smooth.toarray(),columns=tf_idf_vec_smooth.get_feature_names())\n",
        "print(tf_idf_dataframe_smooth)"
      ],
      "metadata": {
        "colab": {
          "base_uri": "https://localhost:8080/"
        },
        "id": "VH6M-1MNZsXR",
        "outputId": "85247eb0-a623-40c3-bdd4-16d4a5e5d464"
      },
      "execution_count": null,
      "outputs": [
        {
          "output_type": "stream",
          "name": "stdout",
          "text": [
            "Without Smoothing:\n",
            "        age      best  foolishness     times    wisdom     worst\n",
            "0  0.000000  0.815564     0.000000  0.578667  0.000000  0.000000\n",
            "1  0.000000  0.000000     0.000000  0.578667  0.000000  0.815564\n",
            "2  0.578667  0.000000     0.000000  0.000000  0.815564  0.000000\n",
            "3  0.578667  0.000000     0.815564  0.000000  0.000000  0.000000\n",
            "\n",
            "\n",
            "With Smoothing:\n",
            "       age      best  foolishness    times    wisdom     worst\n",
            "0  0.00000  0.785288     0.000000  0.61913  0.000000  0.000000\n",
            "1  0.00000  0.000000     0.000000  0.61913  0.000000  0.785288\n",
            "2  0.61913  0.000000     0.000000  0.00000  0.785288  0.000000\n",
            "3  0.61913  0.000000     0.785288  0.00000  0.000000  0.000000\n"
          ]
        }
      ]
    },
    {
      "cell_type": "markdown",
      "source": [
        "# Conclusion:\n",
        "### Both BoW and TF-IDF helps in vectorizing. But the Bow doesn't understand the context moreover sometimes two or more articles in the corpus can have the same frequency.  In TF-IDF we are performing the inverse of the transformation which helps us to understand the context to some extent. Also, in TF-IDF the terms which appear more frequently are given less weightage and less frequently appearing words are given less weightage."
      ],
      "metadata": {
        "id": "pw2Pq22ZCu0A"
      }
    }
  ],
  "metadata": {
    "colab": {
      "provenance": []
    },
    "kernelspec": {
      "display_name": "Python 3",
      "name": "python3"
    },
    "language_info": {
      "name": "python"
    }
  },
  "nbformat": 4,
  "nbformat_minor": 0
}