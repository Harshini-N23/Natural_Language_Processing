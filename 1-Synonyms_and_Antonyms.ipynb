{
  "nbformat": 4,
  "nbformat_minor": 0,
  "metadata": {
    "colab": {
      "provenance": []
    },
    "kernelspec": {
      "name": "python3",
      "display_name": "Python 3"
    },
    "language_info": {
      "name": "python"
    }
  },
  "cells": [
    {
      "cell_type": "markdown",
      "source": [
        "\n",
        "## Program to find the Synonyms and Antonym of the given word"
      ],
      "metadata": {
        "id": "DWagd-WI8VB_"
      }
    },
    {
      "cell_type": "code",
      "source": [
        "pip install contractions"
      ],
      "metadata": {
        "colab": {
          "base_uri": "https://localhost:8080/"
        },
        "id": "btudMiNJ4H4r",
        "outputId": "3fa10f44-67ef-470c-d641-ee40429f0f6a"
      },
      "execution_count": null,
      "outputs": [
        {
          "output_type": "stream",
          "name": "stdout",
          "text": [
            "Looking in indexes: https://pypi.org/simple, https://us-python.pkg.dev/colab-wheels/public/simple/\n",
            "Collecting contractions\n",
            "  Downloading contractions-0.1.73-py2.py3-none-any.whl (8.7 kB)\n",
            "Collecting textsearch>=0.0.21\n",
            "  Downloading textsearch-0.0.24-py2.py3-none-any.whl (7.6 kB)\n",
            "Collecting anyascii\n",
            "  Downloading anyascii-0.3.1-py3-none-any.whl (287 kB)\n",
            "\u001b[2K     \u001b[90m━━━━━━━━━━━━━━━━━━━━━━━━━━━━━━━━━━━━━━━\u001b[0m \u001b[32m287.5/287.5 KB\u001b[0m \u001b[31m7.7 MB/s\u001b[0m eta \u001b[36m0:00:00\u001b[0m\n",
            "\u001b[?25hCollecting pyahocorasick\n",
            "  Downloading pyahocorasick-2.0.0-cp38-cp38-manylinux_2_5_x86_64.manylinux1_x86_64.whl (104 kB)\n",
            "\u001b[2K     \u001b[90m━━━━━━━━━━━━━━━━━━━━━━━━━━━━━━━━━━━━━━\u001b[0m \u001b[32m104.5/104.5 KB\u001b[0m \u001b[31m11.5 MB/s\u001b[0m eta \u001b[36m0:00:00\u001b[0m\n",
            "\u001b[?25hInstalling collected packages: pyahocorasick, anyascii, textsearch, contractions\n",
            "Successfully installed anyascii-0.3.1 contractions-0.1.73 pyahocorasick-2.0.0 textsearch-0.0.24\n"
          ]
        }
      ]
    },
    {
      "cell_type": "code",
      "source": [
        "import nltk\n",
        "import re\n",
        "import contractions\n",
        "import string"
      ],
      "metadata": {
        "id": "JJ_VGgfF8zo5"
      },
      "execution_count": null,
      "outputs": []
    },
    {
      "cell_type": "code",
      "source": [
        "from nltk.corpus import wordnet\n",
        "from nltk.corpus import stopwords\n",
        "from nltk.tokenize import word_tokenize"
      ],
      "metadata": {
        "id": "5zYbtlYJ866l"
      },
      "execution_count": null,
      "outputs": []
    },
    {
      "cell_type": "code",
      "execution_count": null,
      "metadata": {
        "colab": {
          "base_uri": "https://localhost:8080/"
        },
        "id": "cvuxXxfmnglo",
        "outputId": "3a1b33ce-cbd8-4b5e-9730-fed5c17b30c5"
      },
      "outputs": [
        {
          "output_type": "stream",
          "name": "stderr",
          "text": [
            "[nltk_data] Downloading package wordnet to /root/nltk_data...\n",
            "[nltk_data]   Package wordnet is already up-to-date!\n",
            "[nltk_data] Downloading package omw-1.4 to /root/nltk_data...\n",
            "[nltk_data]   Package omw-1.4 is already up-to-date!\n",
            "[nltk_data] Downloading package stopwords to /root/nltk_data...\n",
            "[nltk_data]   Package stopwords is already up-to-date!\n",
            "[nltk_data] Downloading package punkt to /root/nltk_data...\n",
            "[nltk_data]   Package punkt is already up-to-date!\n"
          ]
        }
      ],
      "source": [
        "nltk.download('wordnet')\n",
        "nltk.download('omw-1.4')\n",
        "nltk.download('stopwords')\n",
        "nltk.download('punkt')"
      ]
    },
    {
      "cell_type": "markdown",
      "source": [
        "### The Wordnet package of the Natural Language Toolkit library provides us with the sysets method to find the antonymns and synonyms of the words. Incase there are no antonymns or synonymns for a given word it returns an empty set."
      ],
      "metadata": {
        "id": "dPIr1o7y9UtF"
      }
    },
    {
      "cell_type": "markdown",
      "source": [
        "## Finding Synonyms"
      ],
      "metadata": {
        "id": "xgKXeukSvVHA"
      }
    },
    {
      "cell_type": "code",
      "source": [
        "synonyms =[]\n",
        "def synonym(phrase):\n",
        "  for syn in wordnet.synsets(phrase):\n",
        "    for i in syn.lemmas():\n",
        "      synonyms.append(i.name())\n",
        "\n",
        "word = input(\"Enter the word: \")\n",
        "synonym(word)\n",
        "print(\"The Synonym of\", word, \"is: \", set(synonyms))\n",
        "\n"
      ],
      "metadata": {
        "colab": {
          "base_uri": "https://localhost:8080/"
        },
        "id": "xcJBJ1XxvUMN",
        "outputId": "a3c5ffd4-bccb-4f2f-9804-8f4e504669d7"
      },
      "execution_count": null,
      "outputs": [
        {
          "output_type": "stream",
          "name": "stdout",
          "text": [
            "Enter the word: happy\n",
            "The Synonym of happy is:  {'glad', 'well-chosen', 'felicitous', 'happy'}\n"
          ]
        }
      ]
    },
    {
      "cell_type": "markdown",
      "source": [
        "## Finding Antonyms"
      ],
      "metadata": {
        "id": "Vgp7qwOYwgt6"
      }
    },
    {
      "cell_type": "code",
      "source": [
        "antonyms =[]\n",
        "def antonym(phrase):\n",
        "  for an in wordnet.synsets(phrase):\n",
        "    for i in an.lemmas():\n",
        "      if i.antonyms():\n",
        "        antonyms.append(i.antonyms()[0].name())\n",
        "\n",
        "word = input(\"Enter the word: \")\n",
        "antonym(word)\n",
        "print(\"The Antonym of\", word, \"is: \", set(antonyms))\n"
      ],
      "metadata": {
        "colab": {
          "base_uri": "https://localhost:8080/"
        },
        "id": "6pQSq79XwaPK",
        "outputId": "eb3f416b-d227-45e2-a39a-d59c127466c5"
      },
      "execution_count": null,
      "outputs": [
        {
          "output_type": "stream",
          "name": "stdout",
          "text": [
            "Enter the word: happy\n",
            "The Antonym of happy is:  {'unhappy'}\n"
          ]
        }
      ]
    },
    {
      "cell_type": "code",
      "source": [
        "def syn_ant(phrase):\n",
        "  synonyms =[]\n",
        "  antonyms =[]\n",
        "  for syno in wordnet.synsets(phrase):\n",
        "    for i in syno.lemmas():\n",
        "      synonyms.append(i.name())\n",
        "      if i.antonyms():\n",
        "        antonyms.append(i.antonyms()[0].name())\n",
        "  print(\"Synonyms of \", phrase, \"is: \", set(synonyms))\n",
        "  print(\"Antonym of \", phrase, \"is:\", set(antonyms))\n",
        "\n",
        "syn_ant(phrase = \"happy\")"
      ],
      "metadata": {
        "colab": {
          "base_uri": "https://localhost:8080/"
        },
        "id": "Y-hPbuW8oCdV",
        "outputId": "bcedfb0e-e0fb-4795-b397-87ede23e76ea"
      },
      "execution_count": null,
      "outputs": [
        {
          "output_type": "stream",
          "name": "stdout",
          "text": [
            "Synonyms of  happy is:  {'glad', 'well-chosen', 'felicitous', 'happy'}\n",
            "Antonym of  happy is: {'unhappy'}\n"
          ]
        }
      ]
    }
  ]
}