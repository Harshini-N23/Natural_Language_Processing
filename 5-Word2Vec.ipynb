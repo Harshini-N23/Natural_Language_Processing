{
  "nbformat": 4,
  "nbformat_minor": 0,
  "metadata": {
    "colab": {
      "provenance": []
    },
    "kernelspec": {
      "name": "python3",
      "display_name": "Python 3"
    },
    "language_info": {
      "name": "python"
    }
  },
  "cells": [
    {
      "cell_type": "markdown",
      "source": [
        "\n",
        "## Implementing Word2Vec Embedding\n",
        "\n",
        "## Aim: To convert the given sequences to vectors\n",
        "\n",
        "## Objective:\n",
        "### To understand the context of the given sequences.\n",
        "### To find the similirity between the words in the corpus\n",
        "\n",
        "## Dataset: https://www.kaggle.com/datasets/sulphatet/twitter-financial-news -  Product News (0) and Stock Market Commentary. (1)\n"
      ],
      "metadata": {
        "id": "3RVMyCxNKwBW"
      }
    },
    {
      "cell_type": "markdown",
      "source": [
        "#### Word2Vec Embedding using Gensim"
      ],
      "metadata": {
        "id": "qv2AUS0sfqtd"
      }
    },
    {
      "cell_type": "markdown",
      "source": [
        "## Importing the libraries"
      ],
      "metadata": {
        "id": "VVlHtUqNfxyV"
      }
    },
    {
      "cell_type": "code",
      "execution_count": null,
      "metadata": {
        "colab": {
          "base_uri": "https://localhost:8080/"
        },
        "id": "aGSFSWf77Vdx",
        "outputId": "fcf0753f-0ba5-4eed-e5ba-27cc9fbbdbcf"
      },
      "outputs": [
        {
          "output_type": "stream",
          "name": "stderr",
          "text": [
            "[nltk_data] Downloading package stopwords to /root/nltk_data...\n",
            "[nltk_data]   Package stopwords is already up-to-date!\n",
            "[nltk_data] Downloading package punkt to /root/nltk_data...\n",
            "[nltk_data]   Package punkt is already up-to-date!\n",
            "[nltk_data] Downloading package wordnet to /root/nltk_data...\n",
            "[nltk_data]   Package wordnet is already up-to-date!\n",
            "[nltk_data] Downloading package omw-1.4 to /root/nltk_data...\n",
            "[nltk_data]   Package omw-1.4 is already up-to-date!\n"
          ]
        },
        {
          "output_type": "execute_result",
          "data": {
            "text/plain": [
              "True"
            ]
          },
          "metadata": {},
          "execution_count": 1
        }
      ],
      "source": [
        "import numpy as np\n",
        "import pandas as pd\n",
        "import gensim\n",
        "import nltk\n",
        "from nltk.corpus import stopwords\n",
        "import re\n",
        "from sklearn.model_selection import train_test_split\n",
        "nltk.download('stopwords')\n",
        "nltk.download('punkt')\n",
        "nltk.download('wordnet')\n",
        "nltk.download('omw-1.4')"
      ]
    },
    {
      "cell_type": "markdown",
      "source": [
        "## Loading the data"
      ],
      "metadata": {
        "id": "ASAzgT1lf3PL"
      }
    },
    {
      "cell_type": "code",
      "source": [
        "data=pd.read_csv(\"train_data.csv\")\n",
        "data.head()"
      ],
      "metadata": {
        "colab": {
          "base_uri": "https://localhost:8080/",
          "height": 206
        },
        "id": "89qtOEhqZaTl",
        "outputId": "d459e17d-c348-4f3b-8d06-a07ade6aa38a"
      },
      "execution_count": null,
      "outputs": [
        {
          "output_type": "execute_result",
          "data": {
            "text/plain": [
              "                                                text  label\n",
              "0  $HOUR flagging here below the squeeze level to...      1\n",
              "1  $SPY closed just above 2 mo channel &amp; 10d ...      1\n",
              "2                             $VLCN going green.....      1\n",
              "3  $QQQ - QQQ: It's Make It Or Break It For The S...      1\n",
              "4  Nike college apparel will have 'faster speed t...      0"
            ],
            "text/html": [
              "\n",
              "  <div id=\"df-2807930e-be8a-4ca4-9ecb-06e6669ce823\">\n",
              "    <div class=\"colab-df-container\">\n",
              "      <div>\n",
              "<style scoped>\n",
              "    .dataframe tbody tr th:only-of-type {\n",
              "        vertical-align: middle;\n",
              "    }\n",
              "\n",
              "    .dataframe tbody tr th {\n",
              "        vertical-align: top;\n",
              "    }\n",
              "\n",
              "    .dataframe thead th {\n",
              "        text-align: right;\n",
              "    }\n",
              "</style>\n",
              "<table border=\"1\" class=\"dataframe\">\n",
              "  <thead>\n",
              "    <tr style=\"text-align: right;\">\n",
              "      <th></th>\n",
              "      <th>text</th>\n",
              "      <th>label</th>\n",
              "    </tr>\n",
              "  </thead>\n",
              "  <tbody>\n",
              "    <tr>\n",
              "      <th>0</th>\n",
              "      <td>$HOUR flagging here below the squeeze level to...</td>\n",
              "      <td>1</td>\n",
              "    </tr>\n",
              "    <tr>\n",
              "      <th>1</th>\n",
              "      <td>$SPY closed just above 2 mo channel &amp;amp; 10d ...</td>\n",
              "      <td>1</td>\n",
              "    </tr>\n",
              "    <tr>\n",
              "      <th>2</th>\n",
              "      <td>$VLCN going green.....</td>\n",
              "      <td>1</td>\n",
              "    </tr>\n",
              "    <tr>\n",
              "      <th>3</th>\n",
              "      <td>$QQQ - QQQ: It's Make It Or Break It For The S...</td>\n",
              "      <td>1</td>\n",
              "    </tr>\n",
              "    <tr>\n",
              "      <th>4</th>\n",
              "      <td>Nike college apparel will have 'faster speed t...</td>\n",
              "      <td>0</td>\n",
              "    </tr>\n",
              "  </tbody>\n",
              "</table>\n",
              "</div>\n",
              "      <button class=\"colab-df-convert\" onclick=\"convertToInteractive('df-2807930e-be8a-4ca4-9ecb-06e6669ce823')\"\n",
              "              title=\"Convert this dataframe to an interactive table.\"\n",
              "              style=\"display:none;\">\n",
              "        \n",
              "  <svg xmlns=\"http://www.w3.org/2000/svg\" height=\"24px\"viewBox=\"0 0 24 24\"\n",
              "       width=\"24px\">\n",
              "    <path d=\"M0 0h24v24H0V0z\" fill=\"none\"/>\n",
              "    <path d=\"M18.56 5.44l.94 2.06.94-2.06 2.06-.94-2.06-.94-.94-2.06-.94 2.06-2.06.94zm-11 1L8.5 8.5l.94-2.06 2.06-.94-2.06-.94L8.5 2.5l-.94 2.06-2.06.94zm10 10l.94 2.06.94-2.06 2.06-.94-2.06-.94-.94-2.06-.94 2.06-2.06.94z\"/><path d=\"M17.41 7.96l-1.37-1.37c-.4-.4-.92-.59-1.43-.59-.52 0-1.04.2-1.43.59L10.3 9.45l-7.72 7.72c-.78.78-.78 2.05 0 2.83L4 21.41c.39.39.9.59 1.41.59.51 0 1.02-.2 1.41-.59l7.78-7.78 2.81-2.81c.8-.78.8-2.07 0-2.86zM5.41 20L4 18.59l7.72-7.72 1.47 1.35L5.41 20z\"/>\n",
              "  </svg>\n",
              "      </button>\n",
              "      \n",
              "  <style>\n",
              "    .colab-df-container {\n",
              "      display:flex;\n",
              "      flex-wrap:wrap;\n",
              "      gap: 12px;\n",
              "    }\n",
              "\n",
              "    .colab-df-convert {\n",
              "      background-color: #E8F0FE;\n",
              "      border: none;\n",
              "      border-radius: 50%;\n",
              "      cursor: pointer;\n",
              "      display: none;\n",
              "      fill: #1967D2;\n",
              "      height: 32px;\n",
              "      padding: 0 0 0 0;\n",
              "      width: 32px;\n",
              "    }\n",
              "\n",
              "    .colab-df-convert:hover {\n",
              "      background-color: #E2EBFA;\n",
              "      box-shadow: 0px 1px 2px rgba(60, 64, 67, 0.3), 0px 1px 3px 1px rgba(60, 64, 67, 0.15);\n",
              "      fill: #174EA6;\n",
              "    }\n",
              "\n",
              "    [theme=dark] .colab-df-convert {\n",
              "      background-color: #3B4455;\n",
              "      fill: #D2E3FC;\n",
              "    }\n",
              "\n",
              "    [theme=dark] .colab-df-convert:hover {\n",
              "      background-color: #434B5C;\n",
              "      box-shadow: 0px 1px 3px 1px rgba(0, 0, 0, 0.15);\n",
              "      filter: drop-shadow(0px 1px 2px rgba(0, 0, 0, 0.3));\n",
              "      fill: #FFFFFF;\n",
              "    }\n",
              "  </style>\n",
              "\n",
              "      <script>\n",
              "        const buttonEl =\n",
              "          document.querySelector('#df-2807930e-be8a-4ca4-9ecb-06e6669ce823 button.colab-df-convert');\n",
              "        buttonEl.style.display =\n",
              "          google.colab.kernel.accessAllowed ? 'block' : 'none';\n",
              "\n",
              "        async function convertToInteractive(key) {\n",
              "          const element = document.querySelector('#df-2807930e-be8a-4ca4-9ecb-06e6669ce823');\n",
              "          const dataTable =\n",
              "            await google.colab.kernel.invokeFunction('convertToInteractive',\n",
              "                                                     [key], {});\n",
              "          if (!dataTable) return;\n",
              "\n",
              "          const docLinkHtml = 'Like what you see? Visit the ' +\n",
              "            '<a target=\"_blank\" href=https://colab.research.google.com/notebooks/data_table.ipynb>data table notebook</a>'\n",
              "            + ' to learn more about interactive tables.';\n",
              "          element.innerHTML = '';\n",
              "          dataTable['output_type'] = 'display_data';\n",
              "          await google.colab.output.renderOutput(dataTable, element);\n",
              "          const docLink = document.createElement('div');\n",
              "          docLink.innerHTML = docLinkHtml;\n",
              "          element.appendChild(docLink);\n",
              "        }\n",
              "      </script>\n",
              "    </div>\n",
              "  </div>\n",
              "  "
            ]
          },
          "metadata": {},
          "execution_count": 2
        }
      ]
    },
    {
      "cell_type": "markdown",
      "source": [
        "## Preprocessing the data using Gensim"
      ],
      "metadata": {
        "id": "_8E5dX-_f67A"
      }
    },
    {
      "cell_type": "code",
      "source": [
        "processed_text = data[\"text\"].apply(gensim.utils.simple_preprocess)\n",
        "processed_text"
      ],
      "metadata": {
        "colab": {
          "base_uri": "https://localhost:8080/"
        },
        "id": "KaZ1a0KOZ-g2",
        "outputId": "98a08751-c0d4-4c28-b1d1-9786d5811e92"
      },
      "execution_count": null,
      "outputs": [
        {
          "output_type": "execute_result",
          "data": {
            "text/plain": [
              "0       [hour, flagging, here, below, the, squeeze, le...\n",
              "1       [spy, closed, just, above, mo, channel, amp, m...\n",
              "2                                    [vlcn, going, green]\n",
              "3       [qqq, qqq, it, make, it, or, break, it, for, t...\n",
              "4       [nike, college, apparel, will, have, faster, s...\n",
              "                              ...                        \n",
              "5658    [codenotary, introduces, first, continuous, ba...\n",
              "5659    [msc, cruises, has, set, its, sights, on, the,...\n",
              "5660    [rcm, rcm, long, term, growth, story, intact, ...\n",
              "5661    [cety, clean, energy, technologies, files, for...\n",
              "5662    [intu, orcl, the, better, buy, in, business, s...\n",
              "Name: text, Length: 5663, dtype: object"
            ]
          },
          "metadata": {},
          "execution_count": 9
        }
      ]
    },
    {
      "cell_type": "markdown",
      "source": [
        "## Model Building"
      ],
      "metadata": {
        "id": "a1jKZXBEgDQA"
      }
    },
    {
      "cell_type": "code",
      "source": [
        "model = gensim.models.Word2Vec(window =10, min_count = 2)\n",
        "model.build_vocab(processed_text)\n",
        "model.train(processed_text, total_examples =model.corpus_count, epochs = model.epochs )"
      ],
      "metadata": {
        "id": "gZhLDfQIaGws"
      },
      "execution_count": null,
      "outputs": []
    },
    {
      "cell_type": "markdown",
      "source": [
        "## Finding the most similar word to Market"
      ],
      "metadata": {
        "id": "1ZjpEDspgIbw"
      }
    },
    {
      "cell_type": "code",
      "source": [
        "model.wv.most_similar(\"market\")"
      ],
      "metadata": {
        "colab": {
          "base_uri": "https://localhost:8080/"
        },
        "id": "Ra5PC0DtbwmU",
        "outputId": "3d27e4e3-08d0-477a-e663-e9434ded2d07"
      },
      "execution_count": null,
      "outputs": [
        {
          "output_type": "execute_result",
          "data": {
            "text/plain": [
              "[('buying', 0.9997498989105225),\n",
              " ('potential', 0.9997010231018066),\n",
              " ('portfolio', 0.9996929168701172),\n",
              " ('don', 0.9996792078018188),\n",
              " ('outlook', 0.9996621012687683),\n",
              " ('term', 0.999644935131073),\n",
              " ('cash', 0.9996039271354675),\n",
              " ('risk', 0.9995737075805664),\n",
              " ('scanx', 0.9995546936988831),\n",
              " ('bullish', 0.9995248317718506)]"
            ]
          },
          "metadata": {},
          "execution_count": 16
        }
      ]
    },
    {
      "cell_type": "markdown",
      "source": [
        "## Cosine Similarity between Market and Economy"
      ],
      "metadata": {
        "id": "hziGCqn8gQNJ"
      }
    },
    {
      "cell_type": "code",
      "source": [
        "model.wv.similarity(w1 = \"market\", w2 = \"economy\")"
      ],
      "metadata": {
        "colab": {
          "base_uri": "https://localhost:8080/"
        },
        "id": "oG4ZTgs0cS1V",
        "outputId": "3596b873-2e89-4c41-df4c-f65ea1eeb3cb"
      },
      "execution_count": null,
      "outputs": [
        {
          "output_type": "execute_result",
          "data": {
            "text/plain": [
              "0.9242024"
            ]
          },
          "metadata": {},
          "execution_count": 17
        }
      ]
    },
    {
      "cell_type": "markdown",
      "source": [
        "## Cosine Similarity between Market and Trade"
      ],
      "metadata": {
        "id": "hC6meVlggVpL"
      }
    },
    {
      "cell_type": "code",
      "source": [
        "model.wv.similarity(w1 = \"market\", w2 =\"trade\")"
      ],
      "metadata": {
        "colab": {
          "base_uri": "https://localhost:8080/"
        },
        "id": "7g1iW4bTdOiI",
        "outputId": "9c8784e9-aafa-4a1f-f295-88618e1e8a9b"
      },
      "execution_count": null,
      "outputs": [
        {
          "output_type": "execute_result",
          "data": {
            "text/plain": [
              "0.9907693"
            ]
          },
          "metadata": {},
          "execution_count": 21
        }
      ]
    },
    {
      "cell_type": "markdown",
      "source": [
        "## Preprocessing using nltk libraries"
      ],
      "metadata": {
        "id": "54S1gbergaNl"
      }
    },
    {
      "cell_type": "code",
      "source": [
        "cleaned_data = []\n",
        "stopwords =stopwords.words(\"english\")\n",
        "for text in data[\"text\"]:\n",
        "  text  = re.sub(r\"https\\S+\", \"\", text) # removing links\n",
        "  text = re.sub(\"[^a-zA-Z0-9]\", \" \", text) # including only alphabets and numericals\n",
        "  text = nltk.word_tokenize(text.lower()) # tokenization\n",
        "  text = [word for word in text if word not in stopwords] # stopwords\n",
        "  # text = \" \".join(text)\n",
        "  cleaned_data.append(text)"
      ],
      "metadata": {
        "id": "wjVmIl1reVJx"
      },
      "execution_count": null,
      "outputs": []
    },
    {
      "cell_type": "code",
      "source": [
        "for i in range(0,5):\n",
        "  print(cleaned_data[i], end= \"\\n\\n\")"
      ],
      "metadata": {
        "colab": {
          "base_uri": "https://localhost:8080/"
        },
        "id": "ECRAMGD3eozu",
        "outputId": "12c2e31a-86d7-4e54-9971-cc990aebf2c4"
      },
      "execution_count": null,
      "outputs": [
        {
          "output_type": "stream",
          "name": "stdout",
          "text": [
            "['hour', 'flagging', 'squeeze', 'level', 'accumulate', 'b4', 'spikes', 'still', 'high', 'alert', 'low', 'float', 'short', 'squeeze', 'play']\n",
            "\n",
            "['spy', 'closed', '2', 'mo', 'channel', 'amp', '10d', 'next', 'res', '400', 'qqq', 'closed', '1', 'mo', 'desc', 'tl', 'see', 'consolidate', 'sideways', 'continue', 'th', 'zs', 'fri', 'core', 'pce', '5', '30', 'us', 'mkt', 'closed', '6', '1', 'fed', 'qt', 'starts', '6', '2', 'crwd']\n",
            "\n",
            "['vlcn', 'going', 'green']\n",
            "\n",
            "['qqq', 'qqq', 'make', 'break', 'summer', 'rally', 'markets', 'economy', 'trading']\n",
            "\n",
            "['nike', 'college', 'apparel', 'faster', 'speed', 'market', 'new', 'deal', 'joshschafer']\n",
            "\n"
          ]
        }
      ]
    },
    {
      "cell_type": "markdown",
      "source": [
        "## Model Building"
      ],
      "metadata": {
        "id": "ugwsaYyrggd4"
      }
    },
    {
      "cell_type": "code",
      "source": [
        "model1 = gensim.models.Word2Vec(window =10, min_count = 2)\n",
        "model1.build_vocab(cleaned_data)\n",
        "model1.train(cleaned_data, total_examples =model1.corpus_count, epochs = model1.epochs )"
      ],
      "metadata": {
        "colab": {
          "base_uri": "https://localhost:8080/"
        },
        "id": "5OO68m0jewUU",
        "outputId": "4462341b-7b9c-47ac-e960-5f51e592ad29"
      },
      "execution_count": null,
      "outputs": [
        {
          "output_type": "execute_result",
          "data": {
            "text/plain": [
              "(278810, 322915)"
            ]
          },
          "metadata": {},
          "execution_count": 5
        }
      ]
    },
    {
      "cell_type": "markdown",
      "source": [
        "## Similar Words to Market"
      ],
      "metadata": {
        "id": "iNCE28IDgjFG"
      }
    },
    {
      "cell_type": "code",
      "source": [
        "model1.wv.most_similar(\"market\")"
      ],
      "metadata": {
        "colab": {
          "base_uri": "https://localhost:8080/"
        },
        "id": "VfyiJ9aPfEjY",
        "outputId": "ab03ac8e-adb2-43b8-c685-b2de03405329"
      },
      "execution_count": null,
      "outputs": [
        {
          "output_type": "execute_result",
          "data": {
            "text/plain": [
              "[('company', 0.9999471306800842),\n",
              " ('stock', 0.9999435544013977),\n",
              " ('2022', 0.9999397993087769),\n",
              " ('high', 0.9999319314956665),\n",
              " ('price', 0.9999316930770874),\n",
              " ('time', 0.9999316334724426),\n",
              " ('amp', 0.9999293088912964),\n",
              " ('could', 0.9999256730079651),\n",
              " ('industry', 0.999923825263977),\n",
              " ('u', 0.9999204277992249)]"
            ]
          },
          "metadata": {},
          "execution_count": 7
        }
      ]
    },
    {
      "cell_type": "markdown",
      "source": [
        "## Cosine Similarity between Market and Economy"
      ],
      "metadata": {
        "id": "kwBy4Zv_goOb"
      }
    },
    {
      "cell_type": "code",
      "source": [
        "model1.wv.similarity(w1 = \"market\", w2 = \"economy\")"
      ],
      "metadata": {
        "colab": {
          "base_uri": "https://localhost:8080/"
        },
        "id": "4MCHu8u_fftR",
        "outputId": "b5cc0e0d-29e0-438d-8a0f-edafd48d02be"
      },
      "execution_count": null,
      "outputs": [
        {
          "output_type": "execute_result",
          "data": {
            "text/plain": [
              "0.99841577"
            ]
          },
          "metadata": {},
          "execution_count": 9
        }
      ]
    },
    {
      "cell_type": "markdown",
      "source": [
        "# Conclusion:\n",
        "## The Dataset consists of Product News and Stock Market Commentaries labelled as 0 and 1 respectively. We have used the gensim library for implementing the word2vec.  The first model was built by preprocessing the data using the inbuilt preprocess method provided by the gensim library. Using this method, the model is able to predict all the words which are 99% similar to \"market\" . The same results have been obtained when preprocessed using the nltk libraries. The Cosine Similarity between the word Market and Economy is 99%"
      ],
      "metadata": {
        "id": "7qLRzuj-Nu-o"
      }
    }
  ]
}