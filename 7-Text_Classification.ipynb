{
  "nbformat": 4,
  "nbformat_minor": 0,
  "metadata": {
    "colab": {
      "provenance": []
    },
    "kernelspec": {
      "name": "python3",
      "display_name": "Python 3"
    },
    "language_info": {
      "name": "python"
    }
  },
  "cells": [
    {
      "cell_type": "markdown",
      "source": [
        "\n",
        "# Text Classification using Naive Bayes and Support Vector Machine\n",
        "## Aim: To classify the Product News and Stock Commentary News\n",
        "### Dataset: https://www.kaggle.com/datasets/sulphatet/twitter-financial-news\n",
        "\n",
        "#### Classifiaction of News:\n",
        "* 0 - PRODUCT NEWS\n",
        "* 1-  STOCK COMMENTARY"
      ],
      "metadata": {
        "id": "krOaC3TsovWP"
      }
    },
    {
      "cell_type": "code",
      "source": [
        "import numpy as np\n",
        "import pandas as pd\n",
        "import matplotlib.pyplot as plt\n",
        "import seaborn as sns\n",
        "import random\n",
        "import nltk\n",
        "from nltk.corpus import stopwords\n",
        "from nltk.stem import WordNetLemmatizer\n",
        "from sklearn.feature_extraction.text import CountVectorizer\n",
        "import re\n",
        "import time\n",
        "import pickle\n",
        "from sklearn.model_selection import train_test_split\n",
        "nltk.download('stopwords')\n",
        "\n",
        "nltk.download('punkt')\n",
        "\n",
        "nltk.download('wordnet')\n",
        "nltk.download('omw-1.4')"
      ],
      "metadata": {
        "colab": {
          "base_uri": "https://localhost:8080/"
        },
        "id": "DICknWb4XiVB",
        "outputId": "408758fe-1fa9-4a02-ec62-fb70eaefca87"
      },
      "execution_count": null,
      "outputs": [
        {
          "output_type": "stream",
          "name": "stderr",
          "text": [
            "[nltk_data] Downloading package stopwords to /root/nltk_data...\n",
            "[nltk_data]   Unzipping corpora/stopwords.zip.\n",
            "[nltk_data] Downloading package punkt to /root/nltk_data...\n",
            "[nltk_data]   Unzipping tokenizers/punkt.zip.\n",
            "[nltk_data] Downloading package wordnet to /root/nltk_data...\n",
            "[nltk_data] Downloading package omw-1.4 to /root/nltk_data...\n"
          ]
        },
        {
          "output_type": "execute_result",
          "data": {
            "text/plain": [
              "True"
            ]
          },
          "metadata": {},
          "execution_count": 1
        }
      ]
    },
    {
      "cell_type": "code",
      "execution_count": null,
      "metadata": {
        "colab": {
          "base_uri": "https://localhost:8080/",
          "height": 206
        },
        "id": "MSpHawwdSCPM",
        "outputId": "51d49558-2d49-4b05-e72b-4d02929d917d"
      },
      "outputs": [
        {
          "output_type": "execute_result",
          "data": {
            "text/plain": [
              "                                                text  label\n",
              "0  $HOUR flagging here below the squeeze level to...      1\n",
              "1  $SPY closed just above 2 mo channel &amp; 10d ...      1\n",
              "2                             $VLCN going green.....      1\n",
              "3  $QQQ - QQQ: It's Make It Or Break It For The S...      1\n",
              "4  Nike college apparel will have 'faster speed t...      0"
            ],
            "text/html": [
              "\n",
              "  <div id=\"df-d38e06ee-7bac-4794-979c-f8a3bad2dcbb\">\n",
              "    <div class=\"colab-df-container\">\n",
              "      <div>\n",
              "<style scoped>\n",
              "    .dataframe tbody tr th:only-of-type {\n",
              "        vertical-align: middle;\n",
              "    }\n",
              "\n",
              "    .dataframe tbody tr th {\n",
              "        vertical-align: top;\n",
              "    }\n",
              "\n",
              "    .dataframe thead th {\n",
              "        text-align: right;\n",
              "    }\n",
              "</style>\n",
              "<table border=\"1\" class=\"dataframe\">\n",
              "  <thead>\n",
              "    <tr style=\"text-align: right;\">\n",
              "      <th></th>\n",
              "      <th>text</th>\n",
              "      <th>label</th>\n",
              "    </tr>\n",
              "  </thead>\n",
              "  <tbody>\n",
              "    <tr>\n",
              "      <th>0</th>\n",
              "      <td>$HOUR flagging here below the squeeze level to...</td>\n",
              "      <td>1</td>\n",
              "    </tr>\n",
              "    <tr>\n",
              "      <th>1</th>\n",
              "      <td>$SPY closed just above 2 mo channel &amp;amp; 10d ...</td>\n",
              "      <td>1</td>\n",
              "    </tr>\n",
              "    <tr>\n",
              "      <th>2</th>\n",
              "      <td>$VLCN going green.....</td>\n",
              "      <td>1</td>\n",
              "    </tr>\n",
              "    <tr>\n",
              "      <th>3</th>\n",
              "      <td>$QQQ - QQQ: It's Make It Or Break It For The S...</td>\n",
              "      <td>1</td>\n",
              "    </tr>\n",
              "    <tr>\n",
              "      <th>4</th>\n",
              "      <td>Nike college apparel will have 'faster speed t...</td>\n",
              "      <td>0</td>\n",
              "    </tr>\n",
              "  </tbody>\n",
              "</table>\n",
              "</div>\n",
              "      <button class=\"colab-df-convert\" onclick=\"convertToInteractive('df-d38e06ee-7bac-4794-979c-f8a3bad2dcbb')\"\n",
              "              title=\"Convert this dataframe to an interactive table.\"\n",
              "              style=\"display:none;\">\n",
              "        \n",
              "  <svg xmlns=\"http://www.w3.org/2000/svg\" height=\"24px\"viewBox=\"0 0 24 24\"\n",
              "       width=\"24px\">\n",
              "    <path d=\"M0 0h24v24H0V0z\" fill=\"none\"/>\n",
              "    <path d=\"M18.56 5.44l.94 2.06.94-2.06 2.06-.94-2.06-.94-.94-2.06-.94 2.06-2.06.94zm-11 1L8.5 8.5l.94-2.06 2.06-.94-2.06-.94L8.5 2.5l-.94 2.06-2.06.94zm10 10l.94 2.06.94-2.06 2.06-.94-2.06-.94-.94-2.06-.94 2.06-2.06.94z\"/><path d=\"M17.41 7.96l-1.37-1.37c-.4-.4-.92-.59-1.43-.59-.52 0-1.04.2-1.43.59L10.3 9.45l-7.72 7.72c-.78.78-.78 2.05 0 2.83L4 21.41c.39.39.9.59 1.41.59.51 0 1.02-.2 1.41-.59l7.78-7.78 2.81-2.81c.8-.78.8-2.07 0-2.86zM5.41 20L4 18.59l7.72-7.72 1.47 1.35L5.41 20z\"/>\n",
              "  </svg>\n",
              "      </button>\n",
              "      \n",
              "  <style>\n",
              "    .colab-df-container {\n",
              "      display:flex;\n",
              "      flex-wrap:wrap;\n",
              "      gap: 12px;\n",
              "    }\n",
              "\n",
              "    .colab-df-convert {\n",
              "      background-color: #E8F0FE;\n",
              "      border: none;\n",
              "      border-radius: 50%;\n",
              "      cursor: pointer;\n",
              "      display: none;\n",
              "      fill: #1967D2;\n",
              "      height: 32px;\n",
              "      padding: 0 0 0 0;\n",
              "      width: 32px;\n",
              "    }\n",
              "\n",
              "    .colab-df-convert:hover {\n",
              "      background-color: #E2EBFA;\n",
              "      box-shadow: 0px 1px 2px rgba(60, 64, 67, 0.3), 0px 1px 3px 1px rgba(60, 64, 67, 0.15);\n",
              "      fill: #174EA6;\n",
              "    }\n",
              "\n",
              "    [theme=dark] .colab-df-convert {\n",
              "      background-color: #3B4455;\n",
              "      fill: #D2E3FC;\n",
              "    }\n",
              "\n",
              "    [theme=dark] .colab-df-convert:hover {\n",
              "      background-color: #434B5C;\n",
              "      box-shadow: 0px 1px 3px 1px rgba(0, 0, 0, 0.15);\n",
              "      filter: drop-shadow(0px 1px 2px rgba(0, 0, 0, 0.3));\n",
              "      fill: #FFFFFF;\n",
              "    }\n",
              "  </style>\n",
              "\n",
              "      <script>\n",
              "        const buttonEl =\n",
              "          document.querySelector('#df-d38e06ee-7bac-4794-979c-f8a3bad2dcbb button.colab-df-convert');\n",
              "        buttonEl.style.display =\n",
              "          google.colab.kernel.accessAllowed ? 'block' : 'none';\n",
              "\n",
              "        async function convertToInteractive(key) {\n",
              "          const element = document.querySelector('#df-d38e06ee-7bac-4794-979c-f8a3bad2dcbb');\n",
              "          const dataTable =\n",
              "            await google.colab.kernel.invokeFunction('convertToInteractive',\n",
              "                                                     [key], {});\n",
              "          if (!dataTable) return;\n",
              "\n",
              "          const docLinkHtml = 'Like what you see? Visit the ' +\n",
              "            '<a target=\"_blank\" href=https://colab.research.google.com/notebooks/data_table.ipynb>data table notebook</a>'\n",
              "            + ' to learn more about interactive tables.';\n",
              "          element.innerHTML = '';\n",
              "          dataTable['output_type'] = 'display_data';\n",
              "          await google.colab.output.renderOutput(dataTable, element);\n",
              "          const docLink = document.createElement('div');\n",
              "          docLink.innerHTML = docLinkHtml;\n",
              "          element.appendChild(docLink);\n",
              "        }\n",
              "      </script>\n",
              "    </div>\n",
              "  </div>\n",
              "  "
            ]
          },
          "metadata": {},
          "execution_count": 2
        }
      ],
      "source": [
        "train_data =pd.read_csv(\"train_data.csv\")\n",
        "train_data.head()"
      ]
    },
    {
      "cell_type": "code",
      "source": [
        "train_data.info()"
      ],
      "metadata": {
        "colab": {
          "base_uri": "https://localhost:8080/"
        },
        "id": "2PncLlC3XkI-",
        "outputId": "844cfc76-0ce6-46d2-fa5f-eb5aa6c1974d"
      },
      "execution_count": null,
      "outputs": [
        {
          "output_type": "stream",
          "name": "stdout",
          "text": [
            "<class 'pandas.core.frame.DataFrame'>\n",
            "RangeIndex: 5663 entries, 0 to 5662\n",
            "Data columns (total 2 columns):\n",
            " #   Column  Non-Null Count  Dtype \n",
            "---  ------  --------------  ----- \n",
            " 0   text    5663 non-null   object\n",
            " 1   label   5663 non-null   int64 \n",
            "dtypes: int64(1), object(1)\n",
            "memory usage: 88.6+ KB\n"
          ]
        }
      ]
    },
    {
      "cell_type": "code",
      "source": [
        "train_data.isna().sum()"
      ],
      "metadata": {
        "colab": {
          "base_uri": "https://localhost:8080/"
        },
        "id": "05iRk83zekn8",
        "outputId": "c2611b06-9066-4f3c-b802-9562257dfa66"
      },
      "execution_count": null,
      "outputs": [
        {
          "output_type": "execute_result",
          "data": {
            "text/plain": [
              "text     0\n",
              "label    0\n",
              "dtype: int64"
            ]
          },
          "metadata": {},
          "execution_count": 45
        }
      ]
    },
    {
      "cell_type": "code",
      "source": [
        "train_data[\"label\"].value_counts()"
      ],
      "metadata": {
        "colab": {
          "base_uri": "https://localhost:8080/"
        },
        "id": "5mgg1_boeTpb",
        "outputId": "a4537e46-30dd-4651-f3bc-3c5ddec5fe66"
      },
      "execution_count": null,
      "outputs": [
        {
          "output_type": "execute_result",
          "data": {
            "text/plain": [
              "0    3545\n",
              "1    2118\n",
              "Name: label, dtype: int64"
            ]
          },
          "metadata": {},
          "execution_count": 46
        }
      ]
    },
    {
      "cell_type": "code",
      "source": [
        "for i in range(1,5):\n",
        "    random_ind = random.randint(0,len(train_data))\n",
        "    print(str(train_data[\"text\"][random_ind]),end=\"\\nLabel: \")\n",
        "    print(str(train_data[\"label\"][random_ind]),end=\"\\n\\n\")"
      ],
      "metadata": {
        "colab": {
          "base_uri": "https://localhost:8080/"
        },
        "id": "KbYMH-LdeYZ5",
        "outputId": "6ded816d-6549-4aae-b15c-4e048e6456c4"
      },
      "execution_count": null,
      "outputs": [
        {
          "output_type": "stream",
          "name": "stdout",
          "text": [
            "Wolters Kluwer Compliance Solutions Hosts Digital Banking Assets Informational Webinar  https://t.co/JhHoOfNzam  https://t.co/BAUKwvRMVB\n",
            "Label: 0\n",
            "\n",
            "Medallion Introduces Continuing Education (CE) Tracking to Provide End-to-End License Management to Provider Networks  https://t.co/GMbF6Pra5j\n",
            "Label: 0\n",
            "\n",
            "$STXS: Stereotaxis announced the CE Mark submission for its MAGiC catheter  https://t.co/Kf6ldEz4Kq\n",
            "Label: 0\n",
            "\n",
            "Netcracker Receives Top Ranking in Telco Republic’s Next-Generation Telecom Operations and Business Support Systems Market Assessment  https://t.co/R5RZ3F2eFp  https://t.co/UeE7jxxeqU\n",
            "Label: 0\n",
            "\n"
          ]
        }
      ]
    },
    {
      "cell_type": "markdown",
      "source": [
        "## Most Frequently occuring words in the news sections"
      ],
      "metadata": {
        "id": "0GohUI7YujqI"
      }
    },
    {
      "cell_type": "code",
      "source": [
        "product =nltk.FreqDist(word for text in train_data[train_data[\"label\"]==0][\"text\"] for word in text.lower().split())\n",
        "stock =nltk.FreqDist(word for text in train_data[train_data[\"label\"]==1][\"text\"] for word in text.lower().split())\n"
      ],
      "metadata": {
        "id": "WeT-Vz7GilA4"
      },
      "execution_count": null,
      "outputs": []
    },
    {
      "cell_type": "code",
      "source": [
        "plt.subplots(figsize=(8,6))\n",
        "plt.title(\"Most Used Words in Product News\")\n",
        "product.plot(50)\n",
        "plt.show()"
      ],
      "metadata": {
        "colab": {
          "base_uri": "https://localhost:8080/",
          "height": 473
        },
        "id": "NL2cMEn6uABm",
        "outputId": "11bb482e-1192-404b-977c-90daa2d24f5d"
      },
      "execution_count": null,
      "outputs": [
        {
          "output_type": "display_data",
          "data": {
            "text/plain": [
              "<Figure size 576x432 with 1 Axes>"
            ],
            "image/png": "[encoded data removed]"
          },
          "metadata": {
            "needs_background": "light"
          }
        }
      ]
    },
    {
      "cell_type": "code",
      "source": [
        "plt.subplots(figsize=(8,6))\n",
        "plt.title(\"Most Used Words in Stock Market News\")\n",
        "stock.plot(50)\n",
        "plt.show()"
      ],
      "metadata": {
        "colab": {
          "base_uri": "https://localhost:8080/",
          "height": 464
        },
        "id": "X2T0dolcuM4r",
        "outputId": "c685c0ec-de12-4387-b2e3-0e5c92cb02a1"
      },
      "execution_count": null,
      "outputs": [
        {
          "output_type": "display_data",
          "data": {
            "text/plain": [
              "<Figure size 576x432 with 1 Axes>"
            ],
            "image/png": "[encoded data removed]"
          },
          "metadata": {
            "needs_background": "light"
          }
        }
      ]
    },
    {
      "cell_type": "markdown",
      "source": [
        "## Preprocessing"
      ],
      "metadata": {
        "id": "EpbmXHF_uqfi"
      }
    },
    {
      "cell_type": "code",
      "source": [
        "cleaned_train_data = []\n",
        "lemma =WordNetLemmatizer()\n",
        "stopwords =stopwords.words(\"english\")\n",
        "for text in train_data[\"text\"]:\n",
        "  text  = re.sub(r\"https\\S+\", \"\", text) # removing links\n",
        "  text = re.sub(\"[^a-zA-Z0-9]\", \" \", text) # including only alphabets and numericals\n",
        "  text = nltk.word_tokenize(text.lower()) # tokenization\n",
        "  text = [lemma.lemmatize(word) for word in text] # lemmatization\n",
        "  text = [word for word in text if word not in stopwords] # stopwords\n",
        "  text = \" \".join(text)\n",
        "  cleaned_train_data.append(text)"
      ],
      "metadata": {
        "id": "uC8J__12uZJF"
      },
      "execution_count": null,
      "outputs": []
    },
    {
      "cell_type": "code",
      "source": [
        "for i in range(0,5):\n",
        "  print(cleaned_train_data[i], end= \"\\n\\n\")"
      ],
      "metadata": {
        "colab": {
          "base_uri": "https://localhost:8080/"
        },
        "id": "CSxapJehv4Si",
        "outputId": "d7130731-a361-4909-b329-36356e930e10"
      },
      "execution_count": null,
      "outputs": [
        {
          "output_type": "stream",
          "name": "stdout",
          "text": [
            "hour flagging squeeze level accumulate b4 spike still high alert low float short squeeze play\n",
            "\n",
            "spy closed 2 mo channel amp 10d next 400 qqq closed 1 mo desc tl see consolidate sideways continue th z fri core pce 5 30 u mkt closed 6 1 fed qt start 6 2 crwd\n",
            "\n",
            "vlcn going green\n",
            "\n",
            "qqq qqq make break summer rally market economy trading\n",
            "\n",
            "nike college apparel faster speed market new deal joshschafer\n",
            "\n"
          ]
        }
      ]
    },
    {
      "cell_type": "markdown",
      "source": [
        "## Creating BoW"
      ],
      "metadata": {
        "id": "NUamDc43wrPM"
      }
    },
    {
      "cell_type": "code",
      "source": [
        "vectorizer = CountVectorizer(max_features =1000)\n",
        "BoW = vectorizer.fit_transform(cleaned_train_data)"
      ],
      "metadata": {
        "id": "3SYt207dwjkf"
      },
      "execution_count": null,
      "outputs": []
    },
    {
      "cell_type": "code",
      "source": [
        "from sklearn.model_selection import train_test_split\n",
        "x_train, x_test, y_train, y_test =train_test_split(BoW, np.asarray(cleaned_train_data))"
      ],
      "metadata": {
        "id": "Igv21VGZw38u"
      },
      "execution_count": null,
      "outputs": []
    },
    {
      "cell_type": "code",
      "source": [
        "x_train.shape, x_test.shape, y_train.shape, y_test.shape"
      ],
      "metadata": {
        "colab": {
          "base_uri": "https://localhost:8080/"
        },
        "id": "RBNkuW7Kxgeh",
        "outputId": "9ce4575e-031b-43c2-f655-b2b78aca6f28"
      },
      "execution_count": null,
      "outputs": [
        {
          "output_type": "execute_result",
          "data": {
            "text/plain": [
              "((4247, 1000), (1416, 1000), (4247,), (1416,))"
            ]
          },
          "metadata": {},
          "execution_count": 55
        }
      ]
    },
    {
      "cell_type": "code",
      "source": [
        "from sklearn.svm import SVC\n",
        "model1 = SVC()\n",
        "model1.fit(x_train, y_train)"
      ],
      "metadata": {
        "colab": {
          "base_uri": "https://localhost:8080/"
        },
        "id": "13fB2hlpzVcI",
        "outputId": "83e47233-9b89-4a4c-c313-458d57e2285b"
      },
      "execution_count": null,
      "outputs": [
        {
          "output_type": "execute_result",
          "data": {
            "text/plain": [
              "SVC()"
            ]
          },
          "metadata": {},
          "execution_count": 56
        }
      ]
    },
    {
      "cell_type": "code",
      "source": [
        "predictions = model1.predict(x_test)"
      ],
      "metadata": {
        "id": "T-AbArvwzvb1"
      },
      "execution_count": null,
      "outputs": []
    },
    {
      "cell_type": "code",
      "source": [
        "from sklearn.metrics import accuracy_score,confusion_matrix\n",
        "print(\"Accuracy of SVM model is {}%\".format(accuracy_score(y_test,predictions)))"
      ],
      "metadata": {
        "colab": {
          "base_uri": "https://localhost:8080/"
        },
        "id": "E-e1mRd50HOL",
        "outputId": "2985dd3e-34af-47b7-ad68-bc38c3f59898"
      },
      "execution_count": null,
      "outputs": [
        {
          "metadata": {
            "tags": null
          },
          "name": "stdout",
          "output_type": "stream",
          "text": [
            "Accuracy of SVM model is 0.0748587570621469%\n"
          ]
        }
      ]
    },
    {
      "cell_type": "code",
      "source": [
        "from sklearn import naive_bayes\n",
        "Naive = naive_bayes.MultinomialNB()\n",
        "Naive.fit(x_train, y_train)\n",
        "# predict the labels on validation dataset\n",
        "predictions_NB = Naive.predict(x_test)\n",
        "# Use accuracy_score function to get the accuracy\n",
        "print(\"Naive Bayes Accuracy Score -> \",accuracy_score(predictions_NB, y_test)*100)"
      ],
      "metadata": {
        "colab": {
          "base_uri": "https://localhost:8080/"
        },
        "id": "O4_b2l4Y17uj",
        "outputId": "dcd09119-7a9f-4642-aa9f-164675d33433"
      },
      "execution_count": null,
      "outputs": [
        {
          "output_type": "stream",
          "name": "stdout",
          "text": [
            "Naive Bayes Accuracy Score ->  6.002824858757062\n"
          ]
        }
      ]
    },
    {
      "cell_type": "code",
      "source": [],
      "metadata": {
        "id": "3ow2ACkr3Eiw"
      },
      "execution_count": null,
      "outputs": []
    },
    {
      "cell_type": "markdown",
      "source": [
        "# Using  TF-IDF vectorizer"
      ],
      "metadata": {
        "id": "utu4JFwJ9qkj"
      }
    },
    {
      "cell_type": "code",
      "source": [
        "from nltk.tokenize import word_tokenize\n",
        "from nltk import pos_tag\n",
        "from nltk.corpus import stopwords\n",
        "from nltk.stem import WordNetLemmatizer\n",
        "from sklearn.preprocessing import LabelEncoder\n",
        "from collections import defaultdict\n",
        "from nltk.corpus import wordnet as wn\n",
        "from sklearn.feature_extraction.text import TfidfVectorizer\n",
        "from sklearn import model_selection, naive_bayes, svm\n",
        "from sklearn.metrics import accuracy_score\n",
        "from sklearn.metrics import classification_report\n",
        "from sklearn.metrics import confusion_matrix"
      ],
      "metadata": {
        "id": "bPV25ZXE9_1M"
      },
      "execution_count": null,
      "outputs": []
    },
    {
      "cell_type": "code",
      "source": [
        "data =pd.read_csv(\"/content/drive/MyDrive/Colab Notebooks/train_data.csv\")"
      ],
      "metadata": {
        "id": "nMOK2bWfjD8A"
      },
      "execution_count": null,
      "outputs": []
    },
    {
      "cell_type": "code",
      "source": [
        "data[\"text\"].dropna(inplace=True)\n",
        "data[\"text_original\"] = data[\"text\"]\n",
        "data[\"text\"] = [entry.lower() for entry in data[\"text\"]]\n",
        "data[\"text\"] = [word_tokenize(entry) for entry in data[\"text\"]]\n",
        "tag_map = defaultdict(lambda : wn.NOUN)\n",
        "tag_map['J'] = wn.ADJ\n",
        "tag_map['V'] = wn.VERB\n",
        "tag_map['R'] = wn.ADV\n",
        "data.head()\n"
      ],
      "metadata": {
        "colab": {
          "base_uri": "https://localhost:8080/",
          "height": 206
        },
        "id": "iRhU1AUxj4jE",
        "outputId": "e9ab9d00-48e5-4455-8705-990fcb5dee15"
      },
      "execution_count": null,
      "outputs": [
        {
          "output_type": "execute_result",
          "data": {
            "text/plain": [
              "                                                text  label  \\\n",
              "0  [$, hour, flagging, here, below, the, squeeze,...      1   \n",
              "1  [$, spy, closed, just, above, 2, mo, channel, ...      1   \n",
              "2                     [$, vlcn, going, green, .....]      1   \n",
              "3  [$, qqq, -, qqq, :, it, 's, make, it, or, brea...      1   \n",
              "4  [nike, college, apparel, will, have, 'faster, ...      0   \n",
              "\n",
              "                                       text_original  \n",
              "0  $HOUR flagging here below the squeeze level to...  \n",
              "1  $SPY closed just above 2 mo channel &amp; 10d ...  \n",
              "2                             $VLCN going green.....  \n",
              "3  $QQQ - QQQ: It's Make It Or Break It For The S...  \n",
              "4  Nike college apparel will have 'faster speed t...  "
            ],
            "text/html": [
              "\n",
              "  <div id=\"df-74fde2e5-dc3a-4aab-9f0b-955632e75d91\">\n",
              "    <div class=\"colab-df-container\">\n",
              "      <div>\n",
              "<style scoped>\n",
              "    .dataframe tbody tr th:only-of-type {\n",
              "        vertical-align: middle;\n",
              "    }\n",
              "\n",
              "    .dataframe tbody tr th {\n",
              "        vertical-align: top;\n",
              "    }\n",
              "\n",
              "    .dataframe thead th {\n",
              "        text-align: right;\n",
              "    }\n",
              "</style>\n",
              "<table border=\"1\" class=\"dataframe\">\n",
              "  <thead>\n",
              "    <tr style=\"text-align: right;\">\n",
              "      <th></th>\n",
              "      <th>text</th>\n",
              "      <th>label</th>\n",
              "      <th>text_original</th>\n",
              "    </tr>\n",
              "  </thead>\n",
              "  <tbody>\n",
              "    <tr>\n",
              "      <th>0</th>\n",
              "      <td>[$, hour, flagging, here, below, the, squeeze,...</td>\n",
              "      <td>1</td>\n",
              "      <td>$HOUR flagging here below the squeeze level to...</td>\n",
              "    </tr>\n",
              "    <tr>\n",
              "      <th>1</th>\n",
              "      <td>[$, spy, closed, just, above, 2, mo, channel, ...</td>\n",
              "      <td>1</td>\n",
              "      <td>$SPY closed just above 2 mo channel &amp;amp; 10d ...</td>\n",
              "    </tr>\n",
              "    <tr>\n",
              "      <th>2</th>\n",
              "      <td>[$, vlcn, going, green, .....]</td>\n",
              "      <td>1</td>\n",
              "      <td>$VLCN going green.....</td>\n",
              "    </tr>\n",
              "    <tr>\n",
              "      <th>3</th>\n",
              "      <td>[$, qqq, -, qqq, :, it, 's, make, it, or, brea...</td>\n",
              "      <td>1</td>\n",
              "      <td>$QQQ - QQQ: It's Make It Or Break It For The S...</td>\n",
              "    </tr>\n",
              "    <tr>\n",
              "      <th>4</th>\n",
              "      <td>[nike, college, apparel, will, have, 'faster, ...</td>\n",
              "      <td>0</td>\n",
              "      <td>Nike college apparel will have 'faster speed t...</td>\n",
              "    </tr>\n",
              "  </tbody>\n",
              "</table>\n",
              "</div>\n",
              "      <button class=\"colab-df-convert\" onclick=\"convertToInteractive('df-74fde2e5-dc3a-4aab-9f0b-955632e75d91')\"\n",
              "              title=\"Convert this dataframe to an interactive table.\"\n",
              "              style=\"display:none;\">\n",
              "        \n",
              "  <svg xmlns=\"http://www.w3.org/2000/svg\" height=\"24px\"viewBox=\"0 0 24 24\"\n",
              "       width=\"24px\">\n",
              "    <path d=\"M0 0h24v24H0V0z\" fill=\"none\"/>\n",
              "    <path d=\"M18.56 5.44l.94 2.06.94-2.06 2.06-.94-2.06-.94-.94-2.06-.94 2.06-2.06.94zm-11 1L8.5 8.5l.94-2.06 2.06-.94-2.06-.94L8.5 2.5l-.94 2.06-2.06.94zm10 10l.94 2.06.94-2.06 2.06-.94-2.06-.94-.94-2.06-.94 2.06-2.06.94z\"/><path d=\"M17.41 7.96l-1.37-1.37c-.4-.4-.92-.59-1.43-.59-.52 0-1.04.2-1.43.59L10.3 9.45l-7.72 7.72c-.78.78-.78 2.05 0 2.83L4 21.41c.39.39.9.59 1.41.59.51 0 1.02-.2 1.41-.59l7.78-7.78 2.81-2.81c.8-.78.8-2.07 0-2.86zM5.41 20L4 18.59l7.72-7.72 1.47 1.35L5.41 20z\"/>\n",
              "  </svg>\n",
              "      </button>\n",
              "      \n",
              "  <style>\n",
              "    .colab-df-container {\n",
              "      display:flex;\n",
              "      flex-wrap:wrap;\n",
              "      gap: 12px;\n",
              "    }\n",
              "\n",
              "    .colab-df-convert {\n",
              "      background-color: #E8F0FE;\n",
              "      border: none;\n",
              "      border-radius: 50%;\n",
              "      cursor: pointer;\n",
              "      display: none;\n",
              "      fill: #1967D2;\n",
              "      height: 32px;\n",
              "      padding: 0 0 0 0;\n",
              "      width: 32px;\n",
              "    }\n",
              "\n",
              "    .colab-df-convert:hover {\n",
              "      background-color: #E2EBFA;\n",
              "      box-shadow: 0px 1px 2px rgba(60, 64, 67, 0.3), 0px 1px 3px 1px rgba(60, 64, 67, 0.15);\n",
              "      fill: #174EA6;\n",
              "    }\n",
              "\n",
              "    [theme=dark] .colab-df-convert {\n",
              "      background-color: #3B4455;\n",
              "      fill: #D2E3FC;\n",
              "    }\n",
              "\n",
              "    [theme=dark] .colab-df-convert:hover {\n",
              "      background-color: #434B5C;\n",
              "      box-shadow: 0px 1px 3px 1px rgba(0, 0, 0, 0.15);\n",
              "      filter: drop-shadow(0px 1px 2px rgba(0, 0, 0, 0.3));\n",
              "      fill: #FFFFFF;\n",
              "    }\n",
              "  </style>\n",
              "\n",
              "      <script>\n",
              "        const buttonEl =\n",
              "          document.querySelector('#df-74fde2e5-dc3a-4aab-9f0b-955632e75d91 button.colab-df-convert');\n",
              "        buttonEl.style.display =\n",
              "          google.colab.kernel.accessAllowed ? 'block' : 'none';\n",
              "\n",
              "        async function convertToInteractive(key) {\n",
              "          const element = document.querySelector('#df-74fde2e5-dc3a-4aab-9f0b-955632e75d91');\n",
              "          const dataTable =\n",
              "            await google.colab.kernel.invokeFunction('convertToInteractive',\n",
              "                                                     [key], {});\n",
              "          if (!dataTable) return;\n",
              "\n",
              "          const docLinkHtml = 'Like what you see? Visit the ' +\n",
              "            '<a target=\"_blank\" href=https://colab.research.google.com/notebooks/data_table.ipynb>data table notebook</a>'\n",
              "            + ' to learn more about interactive tables.';\n",
              "          element.innerHTML = '';\n",
              "          dataTable['output_type'] = 'display_data';\n",
              "          await google.colab.output.renderOutput(dataTable, element);\n",
              "          const docLink = document.createElement('div');\n",
              "          docLink.innerHTML = docLinkHtml;\n",
              "          element.appendChild(docLink);\n",
              "        }\n",
              "      </script>\n",
              "    </div>\n",
              "  </div>\n",
              "  "
            ]
          },
          "metadata": {},
          "execution_count": 26
        }
      ]
    },
    {
      "cell_type": "code",
      "source": [
        "import nltk\n",
        "nltk.download('averaged_perceptron_tagger')"
      ],
      "metadata": {
        "colab": {
          "base_uri": "https://localhost:8080/"
        },
        "id": "o7NbDTO1lg_0",
        "outputId": "fdf650a3-db83-4ab6-8a61-674f7bd84aef"
      },
      "execution_count": null,
      "outputs": [
        {
          "output_type": "stream",
          "name": "stderr",
          "text": [
            "[nltk_data] Downloading package averaged_perceptron_tagger to\n",
            "[nltk_data]     /root/nltk_data...\n",
            "[nltk_data]   Package averaged_perceptron_tagger is already up-to-\n",
            "[nltk_data]       date!\n"
          ]
        },
        {
          "output_type": "execute_result",
          "data": {
            "text/plain": [
              "True"
            ]
          },
          "metadata": {},
          "execution_count": 27
        }
      ]
    },
    {
      "cell_type": "code",
      "source": [
        "for index,entry in enumerate(data[\"text\"]):\n",
        "  final_words = []\n",
        "  word_lemmatized =WordNetLemmatizer()\n",
        "  for word, tag in pos_tag(entry):\n",
        "    if word not in stopwords.words(\"english\") and word.isalpha():\n",
        "      word_final = word_lemmatized.lemmatize(word, tag_map[tag[0]])\n",
        "      final_words.append(word_final)\n",
        "  data.loc[index, \"text_final\"] = str(final_words)\n"
      ],
      "metadata": {
        "id": "IRtvRYc7kW7Z"
      },
      "execution_count": null,
      "outputs": []
    },
    {
      "cell_type": "code",
      "source": [
        "data.head()"
      ],
      "metadata": {
        "colab": {
          "base_uri": "https://localhost:8080/",
          "height": 206
        },
        "id": "KgBulAkBledV",
        "outputId": "fe1ba4a7-dc8e-470b-a82a-6536c0844e9a"
      },
      "execution_count": null,
      "outputs": [
        {
          "output_type": "execute_result",
          "data": {
            "text/plain": [
              "                                                text  label  \\\n",
              "0  [$, hour, flagging, here, below, the, squeeze,...      1   \n",
              "1  [$, spy, closed, just, above, 2, mo, channel, ...      1   \n",
              "2                     [$, vlcn, going, green, .....]      1   \n",
              "3  [$, qqq, -, qqq, :, it, 's, make, it, or, brea...      1   \n",
              "4  [nike, college, apparel, will, have, 'faster, ...      0   \n",
              "\n",
              "                                       text_original  \\\n",
              "0  $HOUR flagging here below the squeeze level to...   \n",
              "1  $SPY closed just above 2 mo channel &amp; 10d ...   \n",
              "2                             $VLCN going green.....   \n",
              "3  $QQQ - QQQ: It's Make It Or Break It For The S...   \n",
              "4  Nike college apparel will have 'faster speed t...   \n",
              "\n",
              "                                          text_final  \n",
              "0  ['hour', 'flagging', 'squeeze', 'level', 'accu...  \n",
              "1  ['spy', 'closed', 'mo', 'channel', 'amp', 'nex...  \n",
              "2                         ['vlcn', 'going', 'green']  \n",
              "3  ['qqq', 'qqq', 'make', 'break', 'summer', 'ral...  \n",
              "4  ['nike', 'college', 'apparel', 'speed', 'marke...  "
            ],
            "text/html": [
              "\n",
              "  <div id=\"df-028c011a-609e-42b8-b786-49aa35f12bd2\">\n",
              "    <div class=\"colab-df-container\">\n",
              "      <div>\n",
              "<style scoped>\n",
              "    .dataframe tbody tr th:only-of-type {\n",
              "        vertical-align: middle;\n",
              "    }\n",
              "\n",
              "    .dataframe tbody tr th {\n",
              "        vertical-align: top;\n",
              "    }\n",
              "\n",
              "    .dataframe thead th {\n",
              "        text-align: right;\n",
              "    }\n",
              "</style>\n",
              "<table border=\"1\" class=\"dataframe\">\n",
              "  <thead>\n",
              "    <tr style=\"text-align: right;\">\n",
              "      <th></th>\n",
              "      <th>text</th>\n",
              "      <th>label</th>\n",
              "      <th>text_original</th>\n",
              "      <th>text_final</th>\n",
              "    </tr>\n",
              "  </thead>\n",
              "  <tbody>\n",
              "    <tr>\n",
              "      <th>0</th>\n",
              "      <td>[$, hour, flagging, here, below, the, squeeze,...</td>\n",
              "      <td>1</td>\n",
              "      <td>$HOUR flagging here below the squeeze level to...</td>\n",
              "      <td>['hour', 'flagging', 'squeeze', 'level', 'accu...</td>\n",
              "    </tr>\n",
              "    <tr>\n",
              "      <th>1</th>\n",
              "      <td>[$, spy, closed, just, above, 2, mo, channel, ...</td>\n",
              "      <td>1</td>\n",
              "      <td>$SPY closed just above 2 mo channel &amp;amp; 10d ...</td>\n",
              "      <td>['spy', 'closed', 'mo', 'channel', 'amp', 'nex...</td>\n",
              "    </tr>\n",
              "    <tr>\n",
              "      <th>2</th>\n",
              "      <td>[$, vlcn, going, green, .....]</td>\n",
              "      <td>1</td>\n",
              "      <td>$VLCN going green.....</td>\n",
              "      <td>['vlcn', 'going', 'green']</td>\n",
              "    </tr>\n",
              "    <tr>\n",
              "      <th>3</th>\n",
              "      <td>[$, qqq, -, qqq, :, it, 's, make, it, or, brea...</td>\n",
              "      <td>1</td>\n",
              "      <td>$QQQ - QQQ: It's Make It Or Break It For The S...</td>\n",
              "      <td>['qqq', 'qqq', 'make', 'break', 'summer', 'ral...</td>\n",
              "    </tr>\n",
              "    <tr>\n",
              "      <th>4</th>\n",
              "      <td>[nike, college, apparel, will, have, 'faster, ...</td>\n",
              "      <td>0</td>\n",
              "      <td>Nike college apparel will have 'faster speed t...</td>\n",
              "      <td>['nike', 'college', 'apparel', 'speed', 'marke...</td>\n",
              "    </tr>\n",
              "  </tbody>\n",
              "</table>\n",
              "</div>\n",
              "      <button class=\"colab-df-convert\" onclick=\"convertToInteractive('df-028c011a-609e-42b8-b786-49aa35f12bd2')\"\n",
              "              title=\"Convert this dataframe to an interactive table.\"\n",
              "              style=\"display:none;\">\n",
              "        \n",
              "  <svg xmlns=\"http://www.w3.org/2000/svg\" height=\"24px\"viewBox=\"0 0 24 24\"\n",
              "       width=\"24px\">\n",
              "    <path d=\"M0 0h24v24H0V0z\" fill=\"none\"/>\n",
              "    <path d=\"M18.56 5.44l.94 2.06.94-2.06 2.06-.94-2.06-.94-.94-2.06-.94 2.06-2.06.94zm-11 1L8.5 8.5l.94-2.06 2.06-.94-2.06-.94L8.5 2.5l-.94 2.06-2.06.94zm10 10l.94 2.06.94-2.06 2.06-.94-2.06-.94-.94-2.06-.94 2.06-2.06.94z\"/><path d=\"M17.41 7.96l-1.37-1.37c-.4-.4-.92-.59-1.43-.59-.52 0-1.04.2-1.43.59L10.3 9.45l-7.72 7.72c-.78.78-.78 2.05 0 2.83L4 21.41c.39.39.9.59 1.41.59.51 0 1.02-.2 1.41-.59l7.78-7.78 2.81-2.81c.8-.78.8-2.07 0-2.86zM5.41 20L4 18.59l7.72-7.72 1.47 1.35L5.41 20z\"/>\n",
              "  </svg>\n",
              "      </button>\n",
              "      \n",
              "  <style>\n",
              "    .colab-df-container {\n",
              "      display:flex;\n",
              "      flex-wrap:wrap;\n",
              "      gap: 12px;\n",
              "    }\n",
              "\n",
              "    .colab-df-convert {\n",
              "      background-color: #E8F0FE;\n",
              "      border: none;\n",
              "      border-radius: 50%;\n",
              "      cursor: pointer;\n",
              "      display: none;\n",
              "      fill: #1967D2;\n",
              "      height: 32px;\n",
              "      padding: 0 0 0 0;\n",
              "      width: 32px;\n",
              "    }\n",
              "\n",
              "    .colab-df-convert:hover {\n",
              "      background-color: #E2EBFA;\n",
              "      box-shadow: 0px 1px 2px rgba(60, 64, 67, 0.3), 0px 1px 3px 1px rgba(60, 64, 67, 0.15);\n",
              "      fill: #174EA6;\n",
              "    }\n",
              "\n",
              "    [theme=dark] .colab-df-convert {\n",
              "      background-color: #3B4455;\n",
              "      fill: #D2E3FC;\n",
              "    }\n",
              "\n",
              "    [theme=dark] .colab-df-convert:hover {\n",
              "      background-color: #434B5C;\n",
              "      box-shadow: 0px 1px 3px 1px rgba(0, 0, 0, 0.15);\n",
              "      filter: drop-shadow(0px 1px 2px rgba(0, 0, 0, 0.3));\n",
              "      fill: #FFFFFF;\n",
              "    }\n",
              "  </style>\n",
              "\n",
              "      <script>\n",
              "        const buttonEl =\n",
              "          document.querySelector('#df-028c011a-609e-42b8-b786-49aa35f12bd2 button.colab-df-convert');\n",
              "        buttonEl.style.display =\n",
              "          google.colab.kernel.accessAllowed ? 'block' : 'none';\n",
              "\n",
              "        async function convertToInteractive(key) {\n",
              "          const element = document.querySelector('#df-028c011a-609e-42b8-b786-49aa35f12bd2');\n",
              "          const dataTable =\n",
              "            await google.colab.kernel.invokeFunction('convertToInteractive',\n",
              "                                                     [key], {});\n",
              "          if (!dataTable) return;\n",
              "\n",
              "          const docLinkHtml = 'Like what you see? Visit the ' +\n",
              "            '<a target=\"_blank\" href=https://colab.research.google.com/notebooks/data_table.ipynb>data table notebook</a>'\n",
              "            + ' to learn more about interactive tables.';\n",
              "          element.innerHTML = '';\n",
              "          dataTable['output_type'] = 'display_data';\n",
              "          await google.colab.output.renderOutput(dataTable, element);\n",
              "          const docLink = document.createElement('div');\n",
              "          docLink.innerHTML = docLinkHtml;\n",
              "          element.appendChild(docLink);\n",
              "        }\n",
              "      </script>\n",
              "    </div>\n",
              "  </div>\n",
              "  "
            ]
          },
          "metadata": {},
          "execution_count": 29
        }
      ]
    },
    {
      "cell_type": "code",
      "source": [
        "data = data.drop([\"text\"], axis=1)\n",
        "data.head()"
      ],
      "metadata": {
        "colab": {
          "base_uri": "https://localhost:8080/",
          "height": 206
        },
        "id": "4spFl6QNluL3",
        "outputId": "355dedfd-9c6e-4c1f-d9a3-c3abe71326a3"
      },
      "execution_count": null,
      "outputs": [
        {
          "output_type": "execute_result",
          "data": {
            "text/plain": [
              "   label                                      text_original  \\\n",
              "0      1  $HOUR flagging here below the squeeze level to...   \n",
              "1      1  $SPY closed just above 2 mo channel &amp; 10d ...   \n",
              "2      1                             $VLCN going green.....   \n",
              "3      1  $QQQ - QQQ: It's Make It Or Break It For The S...   \n",
              "4      0  Nike college apparel will have 'faster speed t...   \n",
              "\n",
              "                                          text_final  \n",
              "0  ['hour', 'flagging', 'squeeze', 'level', 'accu...  \n",
              "1  ['spy', 'closed', 'mo', 'channel', 'amp', 'nex...  \n",
              "2                         ['vlcn', 'going', 'green']  \n",
              "3  ['qqq', 'qqq', 'make', 'break', 'summer', 'ral...  \n",
              "4  ['nike', 'college', 'apparel', 'speed', 'marke...  "
            ],
            "text/html": [
              "\n",
              "  <div id=\"df-050f17e0-0ee6-4f79-b908-6cb3dbd7e375\">\n",
              "    <div class=\"colab-df-container\">\n",
              "      <div>\n",
              "<style scoped>\n",
              "    .dataframe tbody tr th:only-of-type {\n",
              "        vertical-align: middle;\n",
              "    }\n",
              "\n",
              "    .dataframe tbody tr th {\n",
              "        vertical-align: top;\n",
              "    }\n",
              "\n",
              "    .dataframe thead th {\n",
              "        text-align: right;\n",
              "    }\n",
              "</style>\n",
              "<table border=\"1\" class=\"dataframe\">\n",
              "  <thead>\n",
              "    <tr style=\"text-align: right;\">\n",
              "      <th></th>\n",
              "      <th>label</th>\n",
              "      <th>text_original</th>\n",
              "      <th>text_final</th>\n",
              "    </tr>\n",
              "  </thead>\n",
              "  <tbody>\n",
              "    <tr>\n",
              "      <th>0</th>\n",
              "      <td>1</td>\n",
              "      <td>$HOUR flagging here below the squeeze level to...</td>\n",
              "      <td>['hour', 'flagging', 'squeeze', 'level', 'accu...</td>\n",
              "    </tr>\n",
              "    <tr>\n",
              "      <th>1</th>\n",
              "      <td>1</td>\n",
              "      <td>$SPY closed just above 2 mo channel &amp;amp; 10d ...</td>\n",
              "      <td>['spy', 'closed', 'mo', 'channel', 'amp', 'nex...</td>\n",
              "    </tr>\n",
              "    <tr>\n",
              "      <th>2</th>\n",
              "      <td>1</td>\n",
              "      <td>$VLCN going green.....</td>\n",
              "      <td>['vlcn', 'going', 'green']</td>\n",
              "    </tr>\n",
              "    <tr>\n",
              "      <th>3</th>\n",
              "      <td>1</td>\n",
              "      <td>$QQQ - QQQ: It's Make It Or Break It For The S...</td>\n",
              "      <td>['qqq', 'qqq', 'make', 'break', 'summer', 'ral...</td>\n",
              "    </tr>\n",
              "    <tr>\n",
              "      <th>4</th>\n",
              "      <td>0</td>\n",
              "      <td>Nike college apparel will have 'faster speed t...</td>\n",
              "      <td>['nike', 'college', 'apparel', 'speed', 'marke...</td>\n",
              "    </tr>\n",
              "  </tbody>\n",
              "</table>\n",
              "</div>\n",
              "      <button class=\"colab-df-convert\" onclick=\"convertToInteractive('df-050f17e0-0ee6-4f79-b908-6cb3dbd7e375')\"\n",
              "              title=\"Convert this dataframe to an interactive table.\"\n",
              "              style=\"display:none;\">\n",
              "        \n",
              "  <svg xmlns=\"http://www.w3.org/2000/svg\" height=\"24px\"viewBox=\"0 0 24 24\"\n",
              "       width=\"24px\">\n",
              "    <path d=\"M0 0h24v24H0V0z\" fill=\"none\"/>\n",
              "    <path d=\"M18.56 5.44l.94 2.06.94-2.06 2.06-.94-2.06-.94-.94-2.06-.94 2.06-2.06.94zm-11 1L8.5 8.5l.94-2.06 2.06-.94-2.06-.94L8.5 2.5l-.94 2.06-2.06.94zm10 10l.94 2.06.94-2.06 2.06-.94-2.06-.94-.94-2.06-.94 2.06-2.06.94z\"/><path d=\"M17.41 7.96l-1.37-1.37c-.4-.4-.92-.59-1.43-.59-.52 0-1.04.2-1.43.59L10.3 9.45l-7.72 7.72c-.78.78-.78 2.05 0 2.83L4 21.41c.39.39.9.59 1.41.59.51 0 1.02-.2 1.41-.59l7.78-7.78 2.81-2.81c.8-.78.8-2.07 0-2.86zM5.41 20L4 18.59l7.72-7.72 1.47 1.35L5.41 20z\"/>\n",
              "  </svg>\n",
              "      </button>\n",
              "      \n",
              "  <style>\n",
              "    .colab-df-container {\n",
              "      display:flex;\n",
              "      flex-wrap:wrap;\n",
              "      gap: 12px;\n",
              "    }\n",
              "\n",
              "    .colab-df-convert {\n",
              "      background-color: #E8F0FE;\n",
              "      border: none;\n",
              "      border-radius: 50%;\n",
              "      cursor: pointer;\n",
              "      display: none;\n",
              "      fill: #1967D2;\n",
              "      height: 32px;\n",
              "      padding: 0 0 0 0;\n",
              "      width: 32px;\n",
              "    }\n",
              "\n",
              "    .colab-df-convert:hover {\n",
              "      background-color: #E2EBFA;\n",
              "      box-shadow: 0px 1px 2px rgba(60, 64, 67, 0.3), 0px 1px 3px 1px rgba(60, 64, 67, 0.15);\n",
              "      fill: #174EA6;\n",
              "    }\n",
              "\n",
              "    [theme=dark] .colab-df-convert {\n",
              "      background-color: #3B4455;\n",
              "      fill: #D2E3FC;\n",
              "    }\n",
              "\n",
              "    [theme=dark] .colab-df-convert:hover {\n",
              "      background-color: #434B5C;\n",
              "      box-shadow: 0px 1px 3px 1px rgba(0, 0, 0, 0.15);\n",
              "      filter: drop-shadow(0px 1px 2px rgba(0, 0, 0, 0.3));\n",
              "      fill: #FFFFFF;\n",
              "    }\n",
              "  </style>\n",
              "\n",
              "      <script>\n",
              "        const buttonEl =\n",
              "          document.querySelector('#df-050f17e0-0ee6-4f79-b908-6cb3dbd7e375 button.colab-df-convert');\n",
              "        buttonEl.style.display =\n",
              "          google.colab.kernel.accessAllowed ? 'block' : 'none';\n",
              "\n",
              "        async function convertToInteractive(key) {\n",
              "          const element = document.querySelector('#df-050f17e0-0ee6-4f79-b908-6cb3dbd7e375');\n",
              "          const dataTable =\n",
              "            await google.colab.kernel.invokeFunction('convertToInteractive',\n",
              "                                                     [key], {});\n",
              "          if (!dataTable) return;\n",
              "\n",
              "          const docLinkHtml = 'Like what you see? Visit the ' +\n",
              "            '<a target=\"_blank\" href=https://colab.research.google.com/notebooks/data_table.ipynb>data table notebook</a>'\n",
              "            + ' to learn more about interactive tables.';\n",
              "          element.innerHTML = '';\n",
              "          dataTable['output_type'] = 'display_data';\n",
              "          await google.colab.output.renderOutput(dataTable, element);\n",
              "          const docLink = document.createElement('div');\n",
              "          docLink.innerHTML = docLinkHtml;\n",
              "          element.appendChild(docLink);\n",
              "        }\n",
              "      </script>\n",
              "    </div>\n",
              "  </div>\n",
              "  "
            ]
          },
          "metadata": {},
          "execution_count": 30
        }
      ]
    },
    {
      "cell_type": "code",
      "source": [
        "x_train1, x_test1, y_train1, y_test1 = train_test_split(data[\"text_final\"], data[\"label\"], test_size =0.3)\n"
      ],
      "metadata": {
        "id": "6wRGbYfTl3Va"
      },
      "execution_count": null,
      "outputs": []
    },
    {
      "cell_type": "code",
      "source": [
        "x_train1.shape, x_test1.shape, y_train1.shape, y_test1.shape"
      ],
      "metadata": {
        "colab": {
          "base_uri": "https://localhost:8080/"
        },
        "id": "NgrL1MY1mR7f",
        "outputId": "a5987cef-854d-4f2f-f40b-99bd083d7509"
      },
      "execution_count": null,
      "outputs": [
        {
          "output_type": "execute_result",
          "data": {
            "text/plain": [
              "((3964,), (1699,), (3964,), (1699,))"
            ]
          },
          "metadata": {},
          "execution_count": 32
        }
      ]
    },
    {
      "cell_type": "code",
      "source": [
        "tfidf_vector = TfidfVectorizer(max_features=1000)\n",
        "tfidf_vector.fit(data[\"text_final\"])\n",
        "x_train1 = tfidf_vector.transform(x_train1)\n",
        "x_test1 = tfidf_vector.transform(x_test1)\n"
      ],
      "metadata": {
        "id": "G9EW1hgrmX7y"
      },
      "execution_count": null,
      "outputs": []
    },
    {
      "cell_type": "code",
      "source": [
        "Naive_bayes = naive_bayes.MultinomialNB()\n",
        "Naive_bayes.fit(x_train1, y_train1)\n",
        "predict_NB = Naive_bayes.predict(x_test1)\n",
        "print(\"Accuracy-Naive Bayes: \", accuracy_score(predict_NB, y_test1)*100)\n",
        "print(classification_report(y_test1, predict_NB))"
      ],
      "metadata": {
        "colab": {
          "base_uri": "https://localhost:8080/"
        },
        "id": "k41aTH93m71n",
        "outputId": "9a416283-27f2-41d6-989d-b5d51dd398ea"
      },
      "execution_count": null,
      "outputs": [
        {
          "output_type": "stream",
          "name": "stdout",
          "text": [
            "Accuracy-Naive Bayes:  92.64273101824602\n",
            "              precision    recall  f1-score   support\n",
            "\n",
            "           0       0.94      0.95      0.94      1079\n",
            "           1       0.91      0.89      0.90       620\n",
            "\n",
            "    accuracy                           0.93      1699\n",
            "   macro avg       0.92      0.92      0.92      1699\n",
            "weighted avg       0.93      0.93      0.93      1699\n",
            "\n"
          ]
        }
      ]
    },
    {
      "cell_type": "code",
      "source": [
        "SVM_classifier = svm.SVC()\n",
        "SVM_classifier.fit(x_train1, y_train1)\n",
        "predict_svm = SVM_classifier.predict(x_test1)\n",
        "print(\"Accuracy-SVM: \", accuracy_score(predict_svm, y_test1)*100)\n",
        "print(classification_report(y_test1, predict_svm))"
      ],
      "metadata": {
        "colab": {
          "base_uri": "https://localhost:8080/"
        },
        "id": "z0aN7naxnkJt",
        "outputId": "3aefa7c5-7793-4167-c721-6c141ba2b6d9"
      },
      "execution_count": null,
      "outputs": [
        {
          "output_type": "stream",
          "name": "stdout",
          "text": [
            "Accuracy-SVM:  95.05591524426134\n",
            "              precision    recall  f1-score   support\n",
            "\n",
            "           0       0.96      0.97      0.96      1079\n",
            "           1       0.94      0.92      0.93       620\n",
            "\n",
            "    accuracy                           0.95      1699\n",
            "   macro avg       0.95      0.94      0.95      1699\n",
            "weighted avg       0.95      0.95      0.95      1699\n",
            "\n"
          ]
        }
      ]
    },
    {
      "cell_type": "markdown",
      "source": [
        "# Conclusion:\n",
        "### We have used the Product news and Stock Commentary news for the classification. After preprocessing the text data, we have converted the texts to vectors using both BoW and TF-IDF.  The classification is done using support Vector Machines and Naive Bayes Classifier. The obtained results for the BoW vectorizer is 6% for the SVM model and the for the naive Bayes the results are unreliable. When we used the TF-IDF vectorizer, the results obtained were 92% for the naive bayes and 95% for the support vector machine."
      ],
      "metadata": {
        "id": "t92V9eiMWenc"
      }
    },
    {
      "cell_type": "code",
      "source": [
        "tfidf_vectorizer =TfidfVectorizer(max_features=100)\n",
        "vectors =tfidf_vectorizer.fit_transform(cleaned_train_data)"
      ],
      "metadata": {
        "id": "cgrvnfo63452"
      },
      "execution_count": null,
      "outputs": []
    },
    {
      "cell_type": "code",
      "source": [
        "from sklearn.model_selection import train_test_split\n",
        "x_train, x_test, y_train, y_test =train_test_split(vectors, train_data[\"label\"])"
      ],
      "metadata": {
        "id": "v6uDz5VE4DWS"
      },
      "execution_count": null,
      "outputs": []
    },
    {
      "cell_type": "code",
      "source": [
        "Naive_bayes = naive_bayes.MultinomialNB()\n",
        "Naive_bayes.fit(x_train, y_train)\n",
        "predict_NB = Naive_bayes.predict(x_test)\n"
      ],
      "metadata": {
        "id": "h_q9rFwX4OSI"
      },
      "execution_count": null,
      "outputs": []
    },
    {
      "cell_type": "code",
      "source": [
        "print(\"Accuracy-Naive Bayes: \", accuracy_score(predict_NB, y_test)*100)\n"
      ],
      "metadata": {
        "colab": {
          "base_uri": "https://localhost:8080/"
        },
        "id": "mUU_mZ744WKz",
        "outputId": "8f790d94-4913-49a8-fde7-bc212fa7ce15"
      },
      "execution_count": null,
      "outputs": [
        {
          "output_type": "stream",
          "name": "stdout",
          "text": [
            "Accuracy-Naive Bayes:  85.87570621468926\n"
          ]
        }
      ]
    },
    {
      "cell_type": "code",
      "source": [
        "print(classification_report(y_test, predict_NB))"
      ],
      "metadata": {
        "colab": {
          "base_uri": "https://localhost:8080/"
        },
        "id": "DRDvJXrF4iHa",
        "outputId": "e629a04a-b479-4809-d736-a52a9cd655ae"
      },
      "execution_count": null,
      "outputs": [
        {
          "output_type": "stream",
          "name": "stdout",
          "text": [
            "              precision    recall  f1-score   support\n",
            "\n",
            "           0       0.86      0.93      0.89       912\n",
            "           1       0.85      0.73      0.79       504\n",
            "\n",
            "    accuracy                           0.86      1416\n",
            "   macro avg       0.86      0.83      0.84      1416\n",
            "weighted avg       0.86      0.86      0.86      1416\n",
            "\n"
          ]
        }
      ]
    },
    {
      "cell_type": "code",
      "source": [],
      "metadata": {
        "id": "QeH3Z8pM4kG9"
      },
      "execution_count": null,
      "outputs": []
    }
  ]
}